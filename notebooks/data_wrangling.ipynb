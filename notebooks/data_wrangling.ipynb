{
 "cells": [
  {
   "cell_type": "markdown",
   "id": "fdd10108",
   "metadata": {},
   "source": [
    "# Data Wrangling\n",
    "\n",
    "I have found, and am leveraging detailed steps of the data wrangling process, as laid out in [this article](https://hevodata.com/learn/data-wrangling/):\n",
    "- Step 1: Data Discovery\n",
    "- Step 2: Data Structuring\n",
    "- Step 3: Data Cleaning\n",
    "- Step 4: Data Enriching\n",
    "- Step 5: Data Validating\n",
    "- Step 6: Data Publishing"
   ]
  },
  {
   "cell_type": "markdown",
   "id": "000dab58",
   "metadata": {},
   "source": [
    "## Load in standard dependencies"
   ]
  },
  {
   "cell_type": "code",
   "execution_count": 1,
   "id": "db08f59e",
   "metadata": {},
   "outputs": [],
   "source": [
    "import pandas as pd\n",
    "import numpy as np\n",
    "import matplotlib.pyplot as plt\n",
    "import os"
   ]
  },
  {
   "cell_type": "markdown",
   "id": "74d0848d",
   "metadata": {},
   "source": [
    "## Load in our selected CSV\n",
    "As the uncompressed CSV file is ~1.4GB, it has not been included in the repository.  Please find the dataset at the following location: https://www.kaggle.com/datasets/austinreese/craigslist-carstrucks-data"
   ]
  },
  {
   "cell_type": "code",
   "execution_count": 2,
   "id": "49e85800",
   "metadata": {},
   "outputs": [],
   "source": [
    "raw_df = pd.read_csv('../data/raw/vehicles.csv')"
   ]
  },
  {
   "cell_type": "markdown",
   "id": "68e2c41d",
   "metadata": {},
   "source": [
    "## [Step 1: Data Discovery](https://hevodata.com/learn/data-wrangling/#s1)\n",
    "\n",
    "The first step in the Data Wrangling process is Discovery. This is an all-encompassing term for understanding or getting familiar with your data. You must take a look at the data you have and think about how you would like it organized to make it easier to consume and analyze. \n",
    "\n",
    "So, you begin with an Unruly Crowd of Data collected from multiple sources in a wide range of formats. At this stage, the goal is to compile the Disparate, Siloed data sources and configure each of them so they can be understood and examined to find patterns and trends in the data."
   ]
  },
  {
   "cell_type": "code",
   "execution_count": 3,
   "id": "717339e6",
   "metadata": {},
   "outputs": [
    {
     "data": {
      "text/plain": [
       "(426880, 26)"
      ]
     },
     "execution_count": 3,
     "metadata": {},
     "output_type": "execute_result"
    }
   ],
   "source": [
    "raw_df.shape"
   ]
  },
  {
   "cell_type": "markdown",
   "id": "d4b9883f",
   "metadata": {},
   "source": [
    "We have lots of observations -- 426,880 of them!"
   ]
  },
  {
   "cell_type": "code",
   "execution_count": 4,
   "id": "08512224",
   "metadata": {},
   "outputs": [
    {
     "data": {
      "text/html": [
       "<div>\n",
       "<style scoped>\n",
       "    .dataframe tbody tr th:only-of-type {\n",
       "        vertical-align: middle;\n",
       "    }\n",
       "\n",
       "    .dataframe tbody tr th {\n",
       "        vertical-align: top;\n",
       "    }\n",
       "\n",
       "    .dataframe thead th {\n",
       "        text-align: right;\n",
       "    }\n",
       "</style>\n",
       "<table border=\"1\" class=\"dataframe\">\n",
       "  <thead>\n",
       "    <tr style=\"text-align: right;\">\n",
       "      <th></th>\n",
       "      <th>id</th>\n",
       "      <th>url</th>\n",
       "      <th>region</th>\n",
       "      <th>region_url</th>\n",
       "      <th>price</th>\n",
       "      <th>year</th>\n",
       "      <th>manufacturer</th>\n",
       "      <th>model</th>\n",
       "      <th>condition</th>\n",
       "      <th>cylinders</th>\n",
       "      <th>...</th>\n",
       "      <th>size</th>\n",
       "      <th>type</th>\n",
       "      <th>paint_color</th>\n",
       "      <th>image_url</th>\n",
       "      <th>description</th>\n",
       "      <th>county</th>\n",
       "      <th>state</th>\n",
       "      <th>lat</th>\n",
       "      <th>long</th>\n",
       "      <th>posting_date</th>\n",
       "    </tr>\n",
       "  </thead>\n",
       "  <tbody>\n",
       "    <tr>\n",
       "      <th>0</th>\n",
       "      <td>7222695916</td>\n",
       "      <td>https://prescott.craigslist.org/cto/d/prescott...</td>\n",
       "      <td>prescott</td>\n",
       "      <td>https://prescott.craigslist.org</td>\n",
       "      <td>6000</td>\n",
       "      <td>NaN</td>\n",
       "      <td>NaN</td>\n",
       "      <td>NaN</td>\n",
       "      <td>NaN</td>\n",
       "      <td>NaN</td>\n",
       "      <td>...</td>\n",
       "      <td>NaN</td>\n",
       "      <td>NaN</td>\n",
       "      <td>NaN</td>\n",
       "      <td>NaN</td>\n",
       "      <td>NaN</td>\n",
       "      <td>NaN</td>\n",
       "      <td>az</td>\n",
       "      <td>NaN</td>\n",
       "      <td>NaN</td>\n",
       "      <td>NaN</td>\n",
       "    </tr>\n",
       "    <tr>\n",
       "      <th>1</th>\n",
       "      <td>7218891961</td>\n",
       "      <td>https://fayar.craigslist.org/ctd/d/bentonville...</td>\n",
       "      <td>fayetteville</td>\n",
       "      <td>https://fayar.craigslist.org</td>\n",
       "      <td>11900</td>\n",
       "      <td>NaN</td>\n",
       "      <td>NaN</td>\n",
       "      <td>NaN</td>\n",
       "      <td>NaN</td>\n",
       "      <td>NaN</td>\n",
       "      <td>...</td>\n",
       "      <td>NaN</td>\n",
       "      <td>NaN</td>\n",
       "      <td>NaN</td>\n",
       "      <td>NaN</td>\n",
       "      <td>NaN</td>\n",
       "      <td>NaN</td>\n",
       "      <td>ar</td>\n",
       "      <td>NaN</td>\n",
       "      <td>NaN</td>\n",
       "      <td>NaN</td>\n",
       "    </tr>\n",
       "    <tr>\n",
       "      <th>2</th>\n",
       "      <td>7221797935</td>\n",
       "      <td>https://keys.craigslist.org/cto/d/summerland-k...</td>\n",
       "      <td>florida keys</td>\n",
       "      <td>https://keys.craigslist.org</td>\n",
       "      <td>21000</td>\n",
       "      <td>NaN</td>\n",
       "      <td>NaN</td>\n",
       "      <td>NaN</td>\n",
       "      <td>NaN</td>\n",
       "      <td>NaN</td>\n",
       "      <td>...</td>\n",
       "      <td>NaN</td>\n",
       "      <td>NaN</td>\n",
       "      <td>NaN</td>\n",
       "      <td>NaN</td>\n",
       "      <td>NaN</td>\n",
       "      <td>NaN</td>\n",
       "      <td>fl</td>\n",
       "      <td>NaN</td>\n",
       "      <td>NaN</td>\n",
       "      <td>NaN</td>\n",
       "    </tr>\n",
       "    <tr>\n",
       "      <th>3</th>\n",
       "      <td>7222270760</td>\n",
       "      <td>https://worcester.craigslist.org/cto/d/west-br...</td>\n",
       "      <td>worcester / central MA</td>\n",
       "      <td>https://worcester.craigslist.org</td>\n",
       "      <td>1500</td>\n",
       "      <td>NaN</td>\n",
       "      <td>NaN</td>\n",
       "      <td>NaN</td>\n",
       "      <td>NaN</td>\n",
       "      <td>NaN</td>\n",
       "      <td>...</td>\n",
       "      <td>NaN</td>\n",
       "      <td>NaN</td>\n",
       "      <td>NaN</td>\n",
       "      <td>NaN</td>\n",
       "      <td>NaN</td>\n",
       "      <td>NaN</td>\n",
       "      <td>ma</td>\n",
       "      <td>NaN</td>\n",
       "      <td>NaN</td>\n",
       "      <td>NaN</td>\n",
       "    </tr>\n",
       "    <tr>\n",
       "      <th>4</th>\n",
       "      <td>7210384030</td>\n",
       "      <td>https://greensboro.craigslist.org/cto/d/trinit...</td>\n",
       "      <td>greensboro</td>\n",
       "      <td>https://greensboro.craigslist.org</td>\n",
       "      <td>4900</td>\n",
       "      <td>NaN</td>\n",
       "      <td>NaN</td>\n",
       "      <td>NaN</td>\n",
       "      <td>NaN</td>\n",
       "      <td>NaN</td>\n",
       "      <td>...</td>\n",
       "      <td>NaN</td>\n",
       "      <td>NaN</td>\n",
       "      <td>NaN</td>\n",
       "      <td>NaN</td>\n",
       "      <td>NaN</td>\n",
       "      <td>NaN</td>\n",
       "      <td>nc</td>\n",
       "      <td>NaN</td>\n",
       "      <td>NaN</td>\n",
       "      <td>NaN</td>\n",
       "    </tr>\n",
       "  </tbody>\n",
       "</table>\n",
       "<p>5 rows × 26 columns</p>\n",
       "</div>"
      ],
      "text/plain": [
       "           id                                                url  \\\n",
       "0  7222695916  https://prescott.craigslist.org/cto/d/prescott...   \n",
       "1  7218891961  https://fayar.craigslist.org/ctd/d/bentonville...   \n",
       "2  7221797935  https://keys.craigslist.org/cto/d/summerland-k...   \n",
       "3  7222270760  https://worcester.craigslist.org/cto/d/west-br...   \n",
       "4  7210384030  https://greensboro.craigslist.org/cto/d/trinit...   \n",
       "\n",
       "                   region                         region_url  price  year  \\\n",
       "0                prescott    https://prescott.craigslist.org   6000   NaN   \n",
       "1            fayetteville       https://fayar.craigslist.org  11900   NaN   \n",
       "2            florida keys        https://keys.craigslist.org  21000   NaN   \n",
       "3  worcester / central MA   https://worcester.craigslist.org   1500   NaN   \n",
       "4              greensboro  https://greensboro.craigslist.org   4900   NaN   \n",
       "\n",
       "  manufacturer model condition cylinders  ... size  type paint_color  \\\n",
       "0          NaN   NaN       NaN       NaN  ...  NaN   NaN         NaN   \n",
       "1          NaN   NaN       NaN       NaN  ...  NaN   NaN         NaN   \n",
       "2          NaN   NaN       NaN       NaN  ...  NaN   NaN         NaN   \n",
       "3          NaN   NaN       NaN       NaN  ...  NaN   NaN         NaN   \n",
       "4          NaN   NaN       NaN       NaN  ...  NaN   NaN         NaN   \n",
       "\n",
       "  image_url description county state lat long posting_date  \n",
       "0       NaN         NaN    NaN    az NaN  NaN          NaN  \n",
       "1       NaN         NaN    NaN    ar NaN  NaN          NaN  \n",
       "2       NaN         NaN    NaN    fl NaN  NaN          NaN  \n",
       "3       NaN         NaN    NaN    ma NaN  NaN          NaN  \n",
       "4       NaN         NaN    NaN    nc NaN  NaN          NaN  \n",
       "\n",
       "[5 rows x 26 columns]"
      ]
     },
     "execution_count": 4,
     "metadata": {},
     "output_type": "execute_result"
    }
   ],
   "source": [
    "raw_df.head()"
   ]
  },
  {
   "cell_type": "code",
   "execution_count": 5,
   "id": "9ccbdee2",
   "metadata": {},
   "outputs": [
    {
     "name": "stdout",
     "output_type": "stream",
     "text": [
      "<class 'pandas.core.frame.DataFrame'>\n",
      "RangeIndex: 426880 entries, 0 to 426879\n",
      "Data columns (total 26 columns):\n",
      " #   Column        Non-Null Count   Dtype  \n",
      "---  ------        --------------   -----  \n",
      " 0   id            426880 non-null  int64  \n",
      " 1   url           426880 non-null  object \n",
      " 2   region        426880 non-null  object \n",
      " 3   region_url    426880 non-null  object \n",
      " 4   price         426880 non-null  int64  \n",
      " 5   year          425675 non-null  float64\n",
      " 6   manufacturer  409234 non-null  object \n",
      " 7   model         421603 non-null  object \n",
      " 8   condition     252776 non-null  object \n",
      " 9   cylinders     249202 non-null  object \n",
      " 10  fuel          423867 non-null  object \n",
      " 11  odometer      422480 non-null  float64\n",
      " 12  title_status  418638 non-null  object \n",
      " 13  transmission  424324 non-null  object \n",
      " 14  VIN           265838 non-null  object \n",
      " 15  drive         296313 non-null  object \n",
      " 16  size          120519 non-null  object \n",
      " 17  type          334022 non-null  object \n",
      " 18  paint_color   296677 non-null  object \n",
      " 19  image_url     426812 non-null  object \n",
      " 20  description   426810 non-null  object \n",
      " 21  county        0 non-null       float64\n",
      " 22  state         426880 non-null  object \n",
      " 23  lat           420331 non-null  float64\n",
      " 24  long          420331 non-null  float64\n",
      " 25  posting_date  426812 non-null  object \n",
      "dtypes: float64(5), int64(2), object(19)\n",
      "memory usage: 84.7+ MB\n"
     ]
    }
   ],
   "source": [
    "raw_df.info()"
   ]
  },
  {
   "cell_type": "code",
   "execution_count": 6,
   "id": "36843529",
   "metadata": {},
   "outputs": [],
   "source": [
    "cleaning_tasks = []\n",
    "cleaning_tasks.append('drop county column entirely')"
   ]
  },
  {
   "cell_type": "code",
   "execution_count": 7,
   "id": "f47f35b8",
   "metadata": {},
   "outputs": [
    {
     "data": {
      "text/html": [
       "<div>\n",
       "<style scoped>\n",
       "    .dataframe tbody tr th:only-of-type {\n",
       "        vertical-align: middle;\n",
       "    }\n",
       "\n",
       "    .dataframe tbody tr th {\n",
       "        vertical-align: top;\n",
       "    }\n",
       "\n",
       "    .dataframe thead th {\n",
       "        text-align: right;\n",
       "    }\n",
       "</style>\n",
       "<table border=\"1\" class=\"dataframe\">\n",
       "  <thead>\n",
       "    <tr style=\"text-align: right;\">\n",
       "      <th></th>\n",
       "      <th>id</th>\n",
       "      <th>price</th>\n",
       "      <th>year</th>\n",
       "      <th>odometer</th>\n",
       "      <th>county</th>\n",
       "      <th>lat</th>\n",
       "      <th>long</th>\n",
       "    </tr>\n",
       "  </thead>\n",
       "  <tbody>\n",
       "    <tr>\n",
       "      <th>count</th>\n",
       "      <td>4.268800e+05</td>\n",
       "      <td>4.268800e+05</td>\n",
       "      <td>425675.000000</td>\n",
       "      <td>4.224800e+05</td>\n",
       "      <td>0.0</td>\n",
       "      <td>420331.000000</td>\n",
       "      <td>420331.000000</td>\n",
       "    </tr>\n",
       "    <tr>\n",
       "      <th>mean</th>\n",
       "      <td>7.311487e+09</td>\n",
       "      <td>7.519903e+04</td>\n",
       "      <td>2011.235191</td>\n",
       "      <td>9.804333e+04</td>\n",
       "      <td>NaN</td>\n",
       "      <td>38.493940</td>\n",
       "      <td>-94.748599</td>\n",
       "    </tr>\n",
       "    <tr>\n",
       "      <th>std</th>\n",
       "      <td>4.473170e+06</td>\n",
       "      <td>1.218228e+07</td>\n",
       "      <td>9.452120</td>\n",
       "      <td>2.138815e+05</td>\n",
       "      <td>NaN</td>\n",
       "      <td>5.841533</td>\n",
       "      <td>18.365462</td>\n",
       "    </tr>\n",
       "    <tr>\n",
       "      <th>min</th>\n",
       "      <td>7.207408e+09</td>\n",
       "      <td>0.000000e+00</td>\n",
       "      <td>1900.000000</td>\n",
       "      <td>0.000000e+00</td>\n",
       "      <td>NaN</td>\n",
       "      <td>-84.122245</td>\n",
       "      <td>-159.827728</td>\n",
       "    </tr>\n",
       "    <tr>\n",
       "      <th>25%</th>\n",
       "      <td>7.308143e+09</td>\n",
       "      <td>5.900000e+03</td>\n",
       "      <td>2008.000000</td>\n",
       "      <td>3.770400e+04</td>\n",
       "      <td>NaN</td>\n",
       "      <td>34.601900</td>\n",
       "      <td>-111.939847</td>\n",
       "    </tr>\n",
       "    <tr>\n",
       "      <th>50%</th>\n",
       "      <td>7.312621e+09</td>\n",
       "      <td>1.395000e+04</td>\n",
       "      <td>2013.000000</td>\n",
       "      <td>8.554800e+04</td>\n",
       "      <td>NaN</td>\n",
       "      <td>39.150100</td>\n",
       "      <td>-88.432600</td>\n",
       "    </tr>\n",
       "    <tr>\n",
       "      <th>75%</th>\n",
       "      <td>7.315254e+09</td>\n",
       "      <td>2.648575e+04</td>\n",
       "      <td>2017.000000</td>\n",
       "      <td>1.335425e+05</td>\n",
       "      <td>NaN</td>\n",
       "      <td>42.398900</td>\n",
       "      <td>-80.832039</td>\n",
       "    </tr>\n",
       "    <tr>\n",
       "      <th>max</th>\n",
       "      <td>7.317101e+09</td>\n",
       "      <td>3.736929e+09</td>\n",
       "      <td>2022.000000</td>\n",
       "      <td>1.000000e+07</td>\n",
       "      <td>NaN</td>\n",
       "      <td>82.390818</td>\n",
       "      <td>173.885502</td>\n",
       "    </tr>\n",
       "  </tbody>\n",
       "</table>\n",
       "</div>"
      ],
      "text/plain": [
       "                 id         price           year      odometer  county  \\\n",
       "count  4.268800e+05  4.268800e+05  425675.000000  4.224800e+05     0.0   \n",
       "mean   7.311487e+09  7.519903e+04    2011.235191  9.804333e+04     NaN   \n",
       "std    4.473170e+06  1.218228e+07       9.452120  2.138815e+05     NaN   \n",
       "min    7.207408e+09  0.000000e+00    1900.000000  0.000000e+00     NaN   \n",
       "25%    7.308143e+09  5.900000e+03    2008.000000  3.770400e+04     NaN   \n",
       "50%    7.312621e+09  1.395000e+04    2013.000000  8.554800e+04     NaN   \n",
       "75%    7.315254e+09  2.648575e+04    2017.000000  1.335425e+05     NaN   \n",
       "max    7.317101e+09  3.736929e+09    2022.000000  1.000000e+07     NaN   \n",
       "\n",
       "                 lat           long  \n",
       "count  420331.000000  420331.000000  \n",
       "mean       38.493940     -94.748599  \n",
       "std         5.841533      18.365462  \n",
       "min       -84.122245    -159.827728  \n",
       "25%        34.601900    -111.939847  \n",
       "50%        39.150100     -88.432600  \n",
       "75%        42.398900     -80.832039  \n",
       "max        82.390818     173.885502  "
      ]
     },
     "execution_count": 7,
     "metadata": {},
     "output_type": "execute_result"
    }
   ],
   "source": [
    "raw_df.describe()"
   ]
  },
  {
   "cell_type": "markdown",
   "id": "35054185",
   "metadata": {},
   "source": [
    "We have a car from as early as 1900!"
   ]
  },
  {
   "cell_type": "code",
   "execution_count": 8,
   "id": "c22602a5",
   "metadata": {},
   "outputs": [
    {
     "data": {
      "text/plain": [
       "(12, 26)"
      ]
     },
     "execution_count": 8,
     "metadata": {},
     "output_type": "execute_result"
    }
   ],
   "source": [
    "from_1900 = raw_df[raw_df['year'] == 1900]\n",
    "from_1900.shape"
   ]
  },
  {
   "cell_type": "markdown",
   "id": "f634d3d8",
   "metadata": {},
   "source": [
    "Twelve of them! Let's look st the descriptions"
   ]
  },
  {
   "cell_type": "code",
   "execution_count": 9,
   "id": "d6a6d902",
   "metadata": {},
   "outputs": [
    {
     "data": {
      "text/plain": [
       "id                                                     7313782174\n",
       "url             https://inlandempire.craigslist.org/cto/d/coro...\n",
       "region                                              inland empire\n",
       "region_url                    https://inlandempire.craigslist.org\n",
       "price                                                           1\n",
       "year                                                       1900.0\n",
       "manufacturer                                                  NaN\n",
       "model                                                         All\n",
       "condition                                                    fair\n",
       "cylinders                                                   other\n",
       "fuel                                                        other\n",
       "odometer                                                 100000.0\n",
       "title_status                                                clean\n",
       "transmission                                                other\n",
       "VIN                                                         00000\n",
       "drive                                                         NaN\n",
       "size                                                          NaN\n",
       "type                                                        other\n",
       "paint_color                                                custom\n",
       "image_url       https://images.craigslist.org/01414_3uUjgDJuCz...\n",
       "description     Please provide photos year make model mileage ...\n",
       "county                                                        NaN\n",
       "state                                                          ca\n",
       "lat                                                       33.8797\n",
       "long                                                    -117.5354\n",
       "posting_date                             2021-04-28T06:44:51-0700\n",
       "Name: 32544, dtype: object"
      ]
     },
     "execution_count": 9,
     "metadata": {},
     "output_type": "execute_result"
    }
   ],
   "source": [
    "from_1900.iloc[1]"
   ]
  },
  {
   "cell_type": "markdown",
   "id": "3fa5b3ee",
   "metadata": {},
   "source": [
    "Some of them say 'parts only', in `title_status`.  We will have to look out for that.  We are trying to price out solid cars only!"
   ]
  },
  {
   "cell_type": "code",
   "execution_count": 10,
   "id": "f5ad34f9",
   "metadata": {},
   "outputs": [],
   "source": [
    "cleaning_tasks.append('remove entries where title_status is \"parts only\"')"
   ]
  },
  {
   "cell_type": "markdown",
   "id": "3d0f1a8b",
   "metadata": {},
   "source": [
    "Are the 1900 cars mistakenly labelled?  Let's look at 1901:"
   ]
  },
  {
   "cell_type": "code",
   "execution_count": 11,
   "id": "b5131058",
   "metadata": {},
   "outputs": [
    {
     "data": {
      "text/plain": [
       "id                                                     7313962943\n",
       "url             https://plattsburgh.craigslist.org/ctd/d/peru-...\n",
       "region                                    plattsburgh-adirondacks\n",
       "region_url                     https://plattsburgh.craigslist.org\n",
       "price                                                        4000\n",
       "year                                                       1901.0\n",
       "manufacturer                                                  NaN\n",
       "model                                                 olds type r\n",
       "condition                                                    good\n",
       "cylinders                                                   other\n",
       "fuel                                                          gas\n",
       "odometer                                                    100.0\n",
       "title_status                                              missing\n",
       "transmission                                                other\n",
       "VIN                                                           NaN\n",
       "drive                                                         rwd\n",
       "size                                                     mid-size\n",
       "type                                                  convertible\n",
       "paint_color                                                 black\n",
       "image_url       https://images.craigslist.org/00G0G_NbNfKGzjnf...\n",
       "description     1901 oldsmobile curved dash type r replica,,,,...\n",
       "county                                                        NaN\n",
       "state                                                          ny\n",
       "lat                                                       44.5851\n",
       "long                                                     -73.5293\n",
       "posting_date                             2021-04-28T14:47:27-0400\n",
       "Name: 277762, dtype: object"
      ]
     },
     "execution_count": 11,
     "metadata": {},
     "output_type": "execute_result"
    }
   ],
   "source": [
    "from_1901 = raw_df[raw_df['year'] == 1901]\n",
    "from_1901.iloc[2]"
   ]
  },
  {
   "cell_type": "markdown",
   "id": "b99e2c94",
   "metadata": {},
   "source": [
    "Looks like this one is a replica!  Do we want to include these?  How many do we have?"
   ]
  },
  {
   "cell_type": "code",
   "execution_count": 12,
   "id": "9c14ef80",
   "metadata": {},
   "outputs": [
    {
     "data": {
      "text/plain": [
       "(315, 26)"
      ]
     },
     "execution_count": 12,
     "metadata": {},
     "output_type": "execute_result"
    }
   ],
   "source": [
    "replicas = raw_df[\n",
    "    raw_df['description'].str.contains(r'replica', na=True)\n",
    "]\n",
    "replicas.shape"
   ]
  },
  {
   "cell_type": "markdown",
   "id": "47160d93",
   "metadata": {},
   "source": [
    "315 is not insignificant.  I think the pricing for replicas may skew our model.  315 is not signicant enough to create a new \"Replica\" feature to nearly half a million occourances.  I say drop them!"
   ]
  },
  {
   "cell_type": "code",
   "execution_count": 13,
   "id": "e5fc06f8",
   "metadata": {},
   "outputs": [],
   "source": [
    "cleaning_tasks.append('drop rows where description field contains \"replica\"')"
   ]
  },
  {
   "cell_type": "markdown",
   "id": "07fe8a70",
   "metadata": {},
   "source": [
    "Let's keep looking through random entries to see what we can find!"
   ]
  },
  {
   "cell_type": "code",
   "execution_count": 14,
   "id": "824e7e55",
   "metadata": {},
   "outputs": [
    {
     "data": {
      "text/plain": [
       "id                                                     7315379459\n",
       "url             https://auburn.craigslist.org/ctd/d/auburn-uni...\n",
       "region                                                     auburn\n",
       "region_url                          https://auburn.craigslist.org\n",
       "price                                                       37990\n",
       "year                                                       2016.0\n",
       "manufacturer                                            chevrolet\n",
       "model                                          camaro ss coupe 2d\n",
       "condition                                                    good\n",
       "cylinders                                             8 cylinders\n",
       "fuel                                                          gas\n",
       "odometer                                                   9704.0\n",
       "title_status                                                clean\n",
       "transmission                                                other\n",
       "VIN                                             1G1FF1R79G0140582\n",
       "drive                                                         rwd\n",
       "size                                                          NaN\n",
       "type                                                        coupe\n",
       "paint_color                                                   red\n",
       "image_url       https://images.craigslist.org/00i0i_5fpVmidrep...\n",
       "description     Carvana is the safer way to buy a car During t...\n",
       "county                                                        NaN\n",
       "state                                                          al\n",
       "lat                                                         32.59\n",
       "long                                                       -85.48\n",
       "posting_date                             2021-05-01T12:21:51-0500\n",
       "Name: 42, dtype: object"
      ]
     },
     "execution_count": 14,
     "metadata": {},
     "output_type": "execute_result"
    }
   ],
   "source": [
    "raw_df.iloc[42]"
   ]
  },
  {
   "cell_type": "markdown",
   "id": "a75412fa",
   "metadata": {},
   "source": [
    "Looking into the VIN label, this is entirely unique to each individual vehicle, and will not yeild predictive power.  Drop it."
   ]
  },
  {
   "cell_type": "code",
   "execution_count": 15,
   "id": "51b9f05c",
   "metadata": {},
   "outputs": [],
   "source": [
    "cleaning_tasks.append('drop VIN column')"
   ]
  },
  {
   "cell_type": "markdown",
   "id": "9efbbe54",
   "metadata": {},
   "source": [
    "What are the upper and lower bounds for prices?"
   ]
  },
  {
   "cell_type": "code",
   "execution_count": 16,
   "id": "f5621843",
   "metadata": {},
   "outputs": [
    {
     "data": {
      "text/plain": [
       "0"
      ]
     },
     "execution_count": 16,
     "metadata": {},
     "output_type": "execute_result"
    }
   ],
   "source": [
    "raw_df['price'].min()"
   ]
  },
  {
   "cell_type": "markdown",
   "id": "15668dad",
   "metadata": {},
   "source": [
    "Drop anything with 0 price"
   ]
  },
  {
   "cell_type": "code",
   "execution_count": 17,
   "id": "b8929b95",
   "metadata": {},
   "outputs": [],
   "source": [
    "cleaning_tasks.append('drop rows with price = 0')"
   ]
  },
  {
   "cell_type": "markdown",
   "id": "3d2779ff",
   "metadata": {},
   "source": [
    "Let's check our upper bounds"
   ]
  },
  {
   "cell_type": "code",
   "execution_count": 18,
   "id": "3fdeea51",
   "metadata": {},
   "outputs": [
    {
     "data": {
      "text/plain": [
       "3736928711"
      ]
     },
     "execution_count": 18,
     "metadata": {},
     "output_type": "execute_result"
    }
   ],
   "source": [
    "raw_df['price'].max()"
   ]
  },
  {
   "cell_type": "markdown",
   "id": "1a5a5704",
   "metadata": {},
   "source": [
    "Somehow a car priced at `$3,736,928,711` does not seem realistic.  [This article](https://worthly.com/most-expensive/cars/feature-the-most-expensive-cars-ever-listed-on-craigslist/) suggests the most expensive vehicle sold on craigslist was a 1994 McLaren F1 at `$7.89` Million\n",
    "\n"
   ]
  },
  {
   "cell_type": "code",
   "execution_count": 19,
   "id": "389c93d6",
   "metadata": {},
   "outputs": [],
   "source": [
    "cleaning_tasks.append('drop rows with price > 7890000')"
   ]
  },
  {
   "cell_type": "markdown",
   "id": "d61e5f2b",
   "metadata": {},
   "source": [
    "[This article](https://www.hotcars.com/15-cars-with-the-highest-mileage-ever-recorded/#:~:text=1%201966%20Volvo%20P1800%20%E2%80%93%203.25%20Million%20Miles&text=Fitting%20that%20a%20Volvo%20would,wasn't%20just%20any%20Volvo.) suggests the higest recorded odometer is 3.04 million"
   ]
  },
  {
   "cell_type": "code",
   "execution_count": 20,
   "id": "ad9e0d67",
   "metadata": {},
   "outputs": [],
   "source": [
    "cleaning_tasks.append('drop rows with odometer > 3040000')"
   ]
  },
  {
   "cell_type": "markdown",
   "id": "e385b029",
   "metadata": {},
   "source": [
    "Are there any one-dollar deals?  What are they like?"
   ]
  },
  {
   "cell_type": "code",
   "execution_count": 21,
   "id": "03703ecd",
   "metadata": {},
   "outputs": [
    {
     "data": {
      "text/plain": [
       "(1951, 26)"
      ]
     },
     "execution_count": 21,
     "metadata": {},
     "output_type": "execute_result"
    }
   ],
   "source": [
    "one_dollar = raw_df[raw_df['price'] == 1]\n",
    "one_dollar.shape"
   ]
  },
  {
   "cell_type": "markdown",
   "id": "32e8b78f",
   "metadata": {},
   "source": [
    "Oh yes, let's check them out"
   ]
  },
  {
   "cell_type": "code",
   "execution_count": 22,
   "id": "c9fd78aa",
   "metadata": {},
   "outputs": [
    {
     "data": {
      "text/plain": [
       "id                                                     7310121191\n",
       "url             https://bham.craigslist.org/cto/d/birmingham-2...\n",
       "region                                                 birmingham\n",
       "region_url                            https://bham.craigslist.org\n",
       "price                                                           1\n",
       "year                                                       2002.0\n",
       "manufacturer                                               nissan\n",
       "model                                                      maxima\n",
       "condition                                                     NaN\n",
       "cylinders                                                     NaN\n",
       "fuel                                                          gas\n",
       "odometer                                                 196000.0\n",
       "title_status                                                clean\n",
       "transmission                                            automatic\n",
       "VIN                                                           NaN\n",
       "drive                                                         NaN\n",
       "size                                                          NaN\n",
       "type                                                          NaN\n",
       "paint_color                                                 black\n",
       "image_url       https://images.craigslist.org/00c0c_4qlEaOnigc...\n",
       "description     $3,300 Selling a 2002 Nissan Maxima with 3.6L ...\n",
       "county                                                        NaN\n",
       "state                                                          al\n",
       "lat                                                       33.6493\n",
       "long                                                     -86.7057\n",
       "posting_date                             2021-04-20T19:09:54-0500\n",
       "Name: 975, dtype: object"
      ]
     },
     "execution_count": 22,
     "metadata": {},
     "output_type": "execute_result"
    }
   ],
   "source": [
    "one_dollar.iloc[1]"
   ]
  },
  {
   "cell_type": "markdown",
   "id": "60de5356",
   "metadata": {},
   "source": [
    "Some of these have the true asking price in the description."
   ]
  },
  {
   "cell_type": "code",
   "execution_count": 23,
   "id": "251449f5",
   "metadata": {},
   "outputs": [
    {
     "data": {
      "text/plain": [
       "(265527, 26)"
      ]
     },
     "execution_count": 23,
     "metadata": {},
     "output_type": "execute_result"
    }
   ],
   "source": [
    "price_in_desc = raw_df[\n",
    "    raw_df['description'].str.contains(r'\\$[0-9]', na=False)\n",
    "]\n",
    "price_in_desc.shape"
   ]
  },
  {
   "cell_type": "code",
   "execution_count": 24,
   "id": "be1e0686",
   "metadata": {},
   "outputs": [
    {
     "data": {
      "text/plain": [
       "id                                                     7311818339\n",
       "url             https://auburn.craigslist.org/ctd/d/auburn-uni...\n",
       "region                                                     auburn\n",
       "region_url                          https://auburn.craigslist.org\n",
       "price                                                       18590\n",
       "year                                                       2018.0\n",
       "manufacturer                                                honda\n",
       "model                                           civic lx sedan 4d\n",
       "condition                                                    good\n",
       "cylinders                                                     NaN\n",
       "fuel                                                          gas\n",
       "odometer                                                  28942.0\n",
       "title_status                                                clean\n",
       "transmission                                                other\n",
       "VIN                                             19XFC2F59JE206832\n",
       "drive                                                         fwd\n",
       "size                                                          NaN\n",
       "type                                                        sedan\n",
       "paint_color                                                 white\n",
       "image_url       https://images.craigslist.org/00H0H_b24A2x1Gzu...\n",
       "description     Carvana is the safer way to buy a car During t...\n",
       "county                                                        NaN\n",
       "state                                                          al\n",
       "lat                                                         32.59\n",
       "long                                                       -85.48\n",
       "posting_date                             2021-04-24T08:52:24-0500\n",
       "Name: 75, dtype: object"
      ]
     },
     "execution_count": 24,
     "metadata": {},
     "output_type": "execute_result"
    }
   ],
   "source": [
    "price_in_desc.iloc[42]"
   ]
  },
  {
   "cell_type": "markdown",
   "id": "d56dc26b",
   "metadata": {},
   "source": [
    "There are too many of these to go through, but they appear to be benign.  But we should drop the one-dollar deals, as they will surely skew our measurements"
   ]
  },
  {
   "cell_type": "code",
   "execution_count": 25,
   "id": "e8fcb7d2",
   "metadata": {},
   "outputs": [],
   "source": [
    "cleaning_tasks.append('drop rows with price = 1')"
   ]
  },
  {
   "cell_type": "markdown",
   "id": "bb856ed7",
   "metadata": {},
   "source": [
    "Remind ourselves to remove duplicates"
   ]
  },
  {
   "cell_type": "code",
   "execution_count": 26,
   "id": "c5344961",
   "metadata": {},
   "outputs": [],
   "source": [
    "cleaning_tasks.append('remove duplicate rows')"
   ]
  },
  {
   "cell_type": "markdown",
   "id": "f688784d",
   "metadata": {},
   "source": [
    "Nice!  Let's flip through some random entries, and see what else we can find"
   ]
  },
  {
   "cell_type": "code",
   "execution_count": 27,
   "id": "0d9165cb",
   "metadata": {},
   "outputs": [
    {
     "data": {
      "text/plain": [
       "id                                                     7310369078\n",
       "url             https://milwaukee.craigslist.org/ctd/d/waukega...\n",
       "region                                                  milwaukee\n",
       "region_url                       https://milwaukee.craigslist.org\n",
       "price                                                        7499\n",
       "year                                                       2002.0\n",
       "manufacturer                                                dodge\n",
       "model                                               grand caravan\n",
       "condition                                                     NaN\n",
       "cylinders                                             8 cylinders\n",
       "fuel                                                          gas\n",
       "odometer                                                 140031.0\n",
       "title_status                                                clean\n",
       "transmission                                            automatic\n",
       "VIN                                                           NaN\n",
       "drive                                                         NaN\n",
       "size                                                          NaN\n",
       "type                                                     mini-van\n",
       "paint_color                                                  blue\n",
       "image_url       https://images.craigslist.org/00101_avMtfGVQXd...\n",
       "description     STOCK #  WYC-639353 VEHICLE DESCRIPTION: HANDI...\n",
       "county                                                        NaN\n",
       "state                                                          wi\n",
       "lat                                                       42.3542\n",
       "long                                                     -87.8651\n",
       "posting_date                             2021-04-21T11:09:14-0500\n",
       "Name: 424242, dtype: object"
      ]
     },
     "execution_count": 27,
     "metadata": {},
     "output_type": "execute_result"
    }
   ],
   "source": [
    "raw_df.iloc[424242]"
   ]
  },
  {
   "cell_type": "markdown",
   "id": "2ea93eb4",
   "metadata": {},
   "source": [
    "curious about `title_status`.  I'm not sure what it means."
   ]
  },
  {
   "cell_type": "code",
   "execution_count": 28,
   "id": "10cfca1d",
   "metadata": {},
   "outputs": [
    {
     "data": {
      "text/plain": [
       "array([nan, 'clean', 'rebuilt', 'lien', 'salvage', 'missing',\n",
       "       'parts only'], dtype=object)"
      ]
     },
     "execution_count": 28,
     "metadata": {},
     "output_type": "execute_result"
    }
   ],
   "source": [
    "raw_df['title_status'].unique()"
   ]
  },
  {
   "cell_type": "markdown",
   "id": "4a78fe07",
   "metadata": {},
   "source": [
    "Similar to `parts only`, I think we should remove `salvage`, as those, to me, are synonymous?  How many are there?"
   ]
  },
  {
   "cell_type": "code",
   "execution_count": 29,
   "id": "292c6591",
   "metadata": {},
   "outputs": [
    {
     "data": {
      "text/plain": [
       "0.009061094452773612"
      ]
     },
     "execution_count": 29,
     "metadata": {},
     "output_type": "execute_result"
    }
   ],
   "source": [
    "replicas = raw_df[raw_df['title_status'] == 'salvage']\n",
    "replicas.shape[0] / raw_df.shape[0]"
   ]
  },
  {
   "cell_type": "markdown",
   "id": "45e6af02",
   "metadata": {},
   "source": [
    "At less than 1%, I think we should dump it.  Sam deals only in whole cars"
   ]
  },
  {
   "cell_type": "code",
   "execution_count": 30,
   "id": "05183af7",
   "metadata": {},
   "outputs": [],
   "source": [
    "cleaning_tasks.append('drop rows with title_status = \"salvage\"')"
   ]
  },
  {
   "cell_type": "markdown",
   "id": "53e259b4",
   "metadata": {},
   "source": [
    "Liens are interesting.  How many are there?"
   ]
  },
  {
   "cell_type": "code",
   "execution_count": 31,
   "id": "b41b8305",
   "metadata": {},
   "outputs": [
    {
     "data": {
      "text/plain": [
       "0.0033311469265367316"
      ]
     },
     "execution_count": 31,
     "metadata": {},
     "output_type": "execute_result"
    }
   ],
   "source": [
    "liens = raw_df[raw_df['title_status'] == 'lien']\n",
    "liens.shape[0] / raw_df.shape[0]"
   ]
  },
  {
   "cell_type": "markdown",
   "id": "ec3e2ab6",
   "metadata": {},
   "source": [
    "Yikes, that's not completely insignificant.  Selling a car that the seller does not completely own puts downward pressure on the price figure.  These instances could artifially skew our model, so I think we should drop them"
   ]
  },
  {
   "cell_type": "code",
   "execution_count": 32,
   "id": "07bdf8ce",
   "metadata": {},
   "outputs": [],
   "source": [
    "cleaning_tasks.append('drop rows with title_status = \"lien\"')"
   ]
  },
  {
   "cell_type": "code",
   "execution_count": 33,
   "id": "d38fba33",
   "metadata": {},
   "outputs": [
    {
     "data": {
      "text/plain": [
       "array([nan, 'white', 'blue', 'red', 'black', 'silver', 'grey', 'brown',\n",
       "       'yellow', 'orange', 'green', 'custom', 'purple'], dtype=object)"
      ]
     },
     "execution_count": 33,
     "metadata": {},
     "output_type": "execute_result"
    }
   ],
   "source": [
    "raw_df['paint_color'].unique()"
   ]
  },
  {
   "cell_type": "code",
   "execution_count": 34,
   "id": "8c7670a1",
   "metadata": {},
   "outputs": [
    {
     "data": {
      "text/plain": [
       "array([nan, 'good', 'excellent', 'fair', 'like new', 'new', 'salvage'],\n",
       "      dtype=object)"
      ]
     },
     "execution_count": 34,
     "metadata": {},
     "output_type": "execute_result"
    }
   ],
   "source": [
    "raw_df['condition'].unique()"
   ]
  },
  {
   "cell_type": "markdown",
   "id": "ff31a866",
   "metadata": {},
   "source": [
    "`salvage` is also captured in `condition`.  Let's remove that too"
   ]
  },
  {
   "cell_type": "code",
   "execution_count": 35,
   "id": "98abf549",
   "metadata": {},
   "outputs": [],
   "source": [
    "cleaning_tasks.append('drop rows with condition = \"salvage\"')"
   ]
  },
  {
   "cell_type": "markdown",
   "id": "c6b0235f",
   "metadata": {},
   "source": [
    "## [Step 2: Data Structuring](https://hevodata.com/learn/data-wrangling/#s2)\n",
    "When raw data is collected, it’s in a wide range of formats and sizes. It has no definite structure, which means that it lacks an existing model and is completely disorganized. It needs to be restructured to fit in with the Analytical Model deployed by your business, and giving it a structure allows for better analysis. \n",
    "\n",
    "Unstructured data is often text-heavy and contains things such as Dates, Numbers, ID codes, etc. At this stage of the Data Wrangling process, the dataset needs to be parsed. \n",
    "\n",
    "This is a process whereby relevant information is extracted from fresh data. For example, if you are dealing with code scrapped from a website, you might parse HTML code, pull out what you need, and discard the rest. \n",
    "\n",
    "This will result in a more user-friendly spreadsheet that contains useful data with columns, classes, headings, and so on."
   ]
  },
  {
   "cell_type": "code",
   "execution_count": 36,
   "id": "d6dbd5dc",
   "metadata": {},
   "outputs": [
    {
     "data": {
      "text/plain": [
       "id                                                     7315379459\n",
       "url             https://auburn.craigslist.org/ctd/d/auburn-uni...\n",
       "region                                                     auburn\n",
       "region_url                          https://auburn.craigslist.org\n",
       "price                                                       37990\n",
       "year                                                       2016.0\n",
       "manufacturer                                            chevrolet\n",
       "model                                          camaro ss coupe 2d\n",
       "condition                                                    good\n",
       "cylinders                                             8 cylinders\n",
       "fuel                                                          gas\n",
       "odometer                                                   9704.0\n",
       "title_status                                                clean\n",
       "transmission                                                other\n",
       "VIN                                             1G1FF1R79G0140582\n",
       "drive                                                         rwd\n",
       "size                                                          NaN\n",
       "type                                                        coupe\n",
       "paint_color                                                   red\n",
       "image_url       https://images.craigslist.org/00i0i_5fpVmidrep...\n",
       "description     Carvana is the safer way to buy a car During t...\n",
       "county                                                        NaN\n",
       "state                                                          al\n",
       "lat                                                         32.59\n",
       "long                                                       -85.48\n",
       "posting_date                             2021-05-01T12:21:51-0500\n",
       "Name: 42, dtype: object"
      ]
     },
     "execution_count": 36,
     "metadata": {},
     "output_type": "execute_result"
    }
   ],
   "source": [
    "raw_df.iloc[42]"
   ]
  },
  {
   "cell_type": "markdown",
   "id": "dd6fcbbd",
   "metadata": {},
   "source": [
    "There are a few columns that will not provide much instight, where not much value can be drived, particularly `image_url`, `url`, `region_url`, `VIN`, `id`, and `county`.  I don't believe there is any more insign we can get out of the dirty & highlky variable content found within the `description` column, so I think we should drop it"
   ]
  },
  {
   "cell_type": "code",
   "execution_count": 37,
   "id": "6f45d52b",
   "metadata": {},
   "outputs": [],
   "source": [
    "cleaning_tasks.append('drop columns: image_url, url, region_url, VIN, id, county, description')"
   ]
  },
  {
   "cell_type": "markdown",
   "id": "6cca9677",
   "metadata": {},
   "source": [
    "## [Step 3: Data Cleaning](https://hevodata.com/learn/data-wrangling/#s3)\n",
    "Most people use the words Data Wrangling and Data Cleaning interchangeably. However, these are two very different processes. Although a complex process in itself, Cleaning is just a single aspect of the overall Data Wrangling process.\n",
    "\n",
    "For the most part, raw data comes with a lot of errors that have to be cleaned before the data can move on to the next stage. Data Cleaning involves Tackling Outliers, Making Corrections, Deleting Bad Data completely, etc. This is done by applying algorithms to tidy up and sanitize the dataset.\n",
    "\n",
    "Cleaning the data does the following:\n",
    "\n",
    "- It removes outliers from your dataset that can potentially skew your results when analyzing the data. \n",
    "- It changes any null values and standardizes the data format to improve quality and consistency.\n",
    "- It identifies duplicate values and standardizes systems of measurements, fixes structural errors and typos, and validates the data to make it easier to handle.\n",
    "\n",
    "You can automate different algorithmic tasks using a variety of tools such as Python and R (more on that later). "
   ]
  },
  {
   "cell_type": "code",
   "execution_count": 38,
   "id": "c0eebdf1",
   "metadata": {},
   "outputs": [
    {
     "data": {
      "text/plain": [
       "{'drop VIN column',\n",
       " 'drop columns: image_url, url, region_url, VIN, id, county, description',\n",
       " 'drop county column entirely',\n",
       " 'drop rows where description field contains \"replica\"',\n",
       " 'drop rows with condition = \"salvage\"',\n",
       " 'drop rows with odometer > 3040000',\n",
       " 'drop rows with price = 0',\n",
       " 'drop rows with price = 1',\n",
       " 'drop rows with price > 7890000',\n",
       " 'drop rows with title_status = \"lien\"',\n",
       " 'drop rows with title_status = \"salvage\"',\n",
       " 'remove duplicate rows',\n",
       " 'remove entries where title_status is \"parts only\"'}"
      ]
     },
     "execution_count": 38,
     "metadata": {},
     "output_type": "execute_result"
    }
   ],
   "source": [
    "set(cleaning_tasks)"
   ]
  },
  {
   "cell_type": "markdown",
   "id": "620ec2d4",
   "metadata": {},
   "source": [
    "Let's get on these cleaning tasks!"
   ]
  },
  {
   "cell_type": "code",
   "execution_count": 39,
   "id": "9e1af598",
   "metadata": {},
   "outputs": [
    {
     "data": {
      "text/plain": [
       "(0, 26)"
      ]
     },
     "execution_count": 39,
     "metadata": {},
     "output_type": "execute_result"
    }
   ],
   "source": [
    "# remove entries where title_status is \"parts only\n",
    "clean_df = raw_df[raw_df['title_status'] != 'parts only'] \n",
    "clean_df[clean_df['title_status'] == 'parts only'] .shape"
   ]
  },
  {
   "cell_type": "code",
   "execution_count": 40,
   "id": "48e483f7",
   "metadata": {},
   "outputs": [
    {
     "data": {
      "text/plain": [
       "(0, 26)"
      ]
     },
     "execution_count": 40,
     "metadata": {},
     "output_type": "execute_result"
    }
   ],
   "source": [
    "# 'drop rows with price = 0',\n",
    "# 'drop rows with price = 1',\n",
    "clean_df = clean_df[clean_df['price'] > 2] \n",
    "clean_df[clean_df['price'] < 2].shape"
   ]
  },
  {
   "cell_type": "code",
   "execution_count": 41,
   "id": "70afb970",
   "metadata": {},
   "outputs": [
    {
     "data": {
      "text/plain": [
       "(0, 26)"
      ]
     },
     "execution_count": 41,
     "metadata": {},
     "output_type": "execute_result"
    }
   ],
   "source": [
    "# 'drop rows where description field contains \"replica\"'\n",
    "clean_df = clean_df[~clean_df['description'].str.contains(r'replica', na=True)]\n",
    "clean_df[clean_df['description'].str.contains(r'replica', na=True)].shape"
   ]
  },
  {
   "cell_type": "code",
   "execution_count": 42,
   "id": "6350c807",
   "metadata": {},
   "outputs": [
    {
     "data": {
      "text/plain": [
       "(0, 26)"
      ]
     },
     "execution_count": 42,
     "metadata": {},
     "output_type": "execute_result"
    }
   ],
   "source": [
    "# 'drop rows with odometer > 3040000'\n",
    "clean_df = clean_df[clean_df['odometer'] < 3040000] \n",
    "clean_df[clean_df['odometer'] > 3040000].shape"
   ]
  },
  {
   "cell_type": "code",
   "execution_count": 43,
   "id": "549cd00b",
   "metadata": {},
   "outputs": [
    {
     "data": {
      "text/plain": [
       "(0, 26)"
      ]
     },
     "execution_count": 43,
     "metadata": {},
     "output_type": "execute_result"
    }
   ],
   "source": [
    "# 'drop rows with price > 7890000'\n",
    "clean_df = clean_df[clean_df['price'] < 7890000] \n",
    "clean_df[clean_df['price'] > 7890000].shape"
   ]
  },
  {
   "cell_type": "code",
   "execution_count": 44,
   "id": "66a8af2e",
   "metadata": {},
   "outputs": [
    {
     "data": {
      "text/plain": [
       "(0, 26)"
      ]
     },
     "execution_count": 44,
     "metadata": {},
     "output_type": "execute_result"
    }
   ],
   "source": [
    "# it turns out the entries we have over 1M are garbage, so lets drop those too\n",
    "clean_df = clean_df[clean_df['price'] < 1000000] \n",
    "clean_df[clean_df['price'] > 1000000].shape"
   ]
  },
  {
   "cell_type": "code",
   "execution_count": 45,
   "id": "148d1485",
   "metadata": {},
   "outputs": [
    {
     "data": {
      "text/plain": [
       "(0, 26)"
      ]
     },
     "execution_count": 45,
     "metadata": {},
     "output_type": "execute_result"
    }
   ],
   "source": [
    "# 'drop rows with condition = \"salvage\"'\n",
    "clean_df = clean_df[clean_df['condition'] != 'salvage'] \n",
    "clean_df[clean_df['condition'] == 'salvage'].shape"
   ]
  },
  {
   "cell_type": "code",
   "execution_count": 46,
   "id": "db54baeb",
   "metadata": {},
   "outputs": [
    {
     "data": {
      "text/plain": [
       "(0, 26)"
      ]
     },
     "execution_count": 46,
     "metadata": {},
     "output_type": "execute_result"
    }
   ],
   "source": [
    "# 'drop rows with title_status = \"lien\"',\n",
    "clean_df = clean_df[clean_df['title_status'] != 'lien'] \n",
    "clean_df[clean_df['title_status'] == 'lien'].shape"
   ]
  },
  {
   "cell_type": "code",
   "execution_count": 47,
   "id": "190b5dc2",
   "metadata": {},
   "outputs": [
    {
     "data": {
      "text/plain": [
       "(0, 26)"
      ]
     },
     "execution_count": 47,
     "metadata": {},
     "output_type": "execute_result"
    }
   ],
   "source": [
    "# 'drop rows with title_status = \"salvage\"',\n",
    "clean_df = clean_df[clean_df['title_status'] != 'salvage'] \n",
    "clean_df[clean_df['title_status'] == 'salvage'].shape"
   ]
  },
  {
   "cell_type": "code",
   "execution_count": 48,
   "id": "d962e5a5",
   "metadata": {},
   "outputs": [
    {
     "data": {
      "text/plain": [
       "(0, 26)"
      ]
     },
     "execution_count": 48,
     "metadata": {},
     "output_type": "execute_result"
    }
   ],
   "source": [
    "# 'remove entries where title_status is \"parts only\"'\n",
    "clean_df = clean_df[clean_df['title_status'] != 'parts only'] \n",
    "clean_df[clean_df['title_status'] == 'parts only'].shape"
   ]
  },
  {
   "cell_type": "code",
   "execution_count": 49,
   "id": "81d86956",
   "metadata": {},
   "outputs": [],
   "source": [
    "#  image_url, url, region_url, VIN, id, county, description'\n",
    "clean_df.drop(['image_url', 'url', 'region_url', 'VIN', 'id', 'county', 'description'], axis=1, inplace=True)"
   ]
  },
  {
   "cell_type": "code",
   "execution_count": 50,
   "id": "7141e496",
   "metadata": {},
   "outputs": [
    {
     "data": {
      "text/html": [
       "<div>\n",
       "<style scoped>\n",
       "    .dataframe tbody tr th:only-of-type {\n",
       "        vertical-align: middle;\n",
       "    }\n",
       "\n",
       "    .dataframe tbody tr th {\n",
       "        vertical-align: top;\n",
       "    }\n",
       "\n",
       "    .dataframe thead th {\n",
       "        text-align: right;\n",
       "    }\n",
       "</style>\n",
       "<table border=\"1\" class=\"dataframe\">\n",
       "  <thead>\n",
       "    <tr style=\"text-align: right;\">\n",
       "      <th></th>\n",
       "      <th>region</th>\n",
       "      <th>price</th>\n",
       "      <th>year</th>\n",
       "      <th>manufacturer</th>\n",
       "      <th>model</th>\n",
       "      <th>condition</th>\n",
       "      <th>cylinders</th>\n",
       "      <th>fuel</th>\n",
       "      <th>odometer</th>\n",
       "      <th>title_status</th>\n",
       "      <th>transmission</th>\n",
       "      <th>drive</th>\n",
       "      <th>size</th>\n",
       "      <th>type</th>\n",
       "      <th>paint_color</th>\n",
       "      <th>state</th>\n",
       "      <th>lat</th>\n",
       "      <th>long</th>\n",
       "      <th>posting_date</th>\n",
       "    </tr>\n",
       "  </thead>\n",
       "  <tbody>\n",
       "    <tr>\n",
       "      <th>27</th>\n",
       "      <td>auburn</td>\n",
       "      <td>33590</td>\n",
       "      <td>2014.0</td>\n",
       "      <td>gmc</td>\n",
       "      <td>sierra 1500 crew cab slt</td>\n",
       "      <td>good</td>\n",
       "      <td>8 cylinders</td>\n",
       "      <td>gas</td>\n",
       "      <td>57923.0</td>\n",
       "      <td>clean</td>\n",
       "      <td>other</td>\n",
       "      <td>NaN</td>\n",
       "      <td>NaN</td>\n",
       "      <td>pickup</td>\n",
       "      <td>white</td>\n",
       "      <td>al</td>\n",
       "      <td>32.590</td>\n",
       "      <td>-85.4800</td>\n",
       "      <td>2021-05-04T12:31:18-0500</td>\n",
       "    </tr>\n",
       "    <tr>\n",
       "      <th>28</th>\n",
       "      <td>auburn</td>\n",
       "      <td>22590</td>\n",
       "      <td>2010.0</td>\n",
       "      <td>chevrolet</td>\n",
       "      <td>silverado 1500</td>\n",
       "      <td>good</td>\n",
       "      <td>8 cylinders</td>\n",
       "      <td>gas</td>\n",
       "      <td>71229.0</td>\n",
       "      <td>clean</td>\n",
       "      <td>other</td>\n",
       "      <td>NaN</td>\n",
       "      <td>NaN</td>\n",
       "      <td>pickup</td>\n",
       "      <td>blue</td>\n",
       "      <td>al</td>\n",
       "      <td>32.590</td>\n",
       "      <td>-85.4800</td>\n",
       "      <td>2021-05-04T12:31:08-0500</td>\n",
       "    </tr>\n",
       "    <tr>\n",
       "      <th>29</th>\n",
       "      <td>auburn</td>\n",
       "      <td>39590</td>\n",
       "      <td>2020.0</td>\n",
       "      <td>chevrolet</td>\n",
       "      <td>silverado 1500 crew</td>\n",
       "      <td>good</td>\n",
       "      <td>8 cylinders</td>\n",
       "      <td>gas</td>\n",
       "      <td>19160.0</td>\n",
       "      <td>clean</td>\n",
       "      <td>other</td>\n",
       "      <td>NaN</td>\n",
       "      <td>NaN</td>\n",
       "      <td>pickup</td>\n",
       "      <td>red</td>\n",
       "      <td>al</td>\n",
       "      <td>32.590</td>\n",
       "      <td>-85.4800</td>\n",
       "      <td>2021-05-04T12:31:25-0500</td>\n",
       "    </tr>\n",
       "    <tr>\n",
       "      <th>30</th>\n",
       "      <td>auburn</td>\n",
       "      <td>30990</td>\n",
       "      <td>2017.0</td>\n",
       "      <td>toyota</td>\n",
       "      <td>tundra double cab sr</td>\n",
       "      <td>good</td>\n",
       "      <td>8 cylinders</td>\n",
       "      <td>gas</td>\n",
       "      <td>41124.0</td>\n",
       "      <td>clean</td>\n",
       "      <td>other</td>\n",
       "      <td>NaN</td>\n",
       "      <td>NaN</td>\n",
       "      <td>pickup</td>\n",
       "      <td>red</td>\n",
       "      <td>al</td>\n",
       "      <td>32.590</td>\n",
       "      <td>-85.4800</td>\n",
       "      <td>2021-05-04T10:41:31-0500</td>\n",
       "    </tr>\n",
       "    <tr>\n",
       "      <th>31</th>\n",
       "      <td>auburn</td>\n",
       "      <td>15000</td>\n",
       "      <td>2013.0</td>\n",
       "      <td>ford</td>\n",
       "      <td>f-150 xlt</td>\n",
       "      <td>excellent</td>\n",
       "      <td>6 cylinders</td>\n",
       "      <td>gas</td>\n",
       "      <td>128000.0</td>\n",
       "      <td>clean</td>\n",
       "      <td>automatic</td>\n",
       "      <td>rwd</td>\n",
       "      <td>full-size</td>\n",
       "      <td>truck</td>\n",
       "      <td>black</td>\n",
       "      <td>al</td>\n",
       "      <td>32.592</td>\n",
       "      <td>-85.5189</td>\n",
       "      <td>2021-05-03T14:02:03-0500</td>\n",
       "    </tr>\n",
       "  </tbody>\n",
       "</table>\n",
       "</div>"
      ],
      "text/plain": [
       "    region  price    year manufacturer                     model  condition  \\\n",
       "27  auburn  33590  2014.0          gmc  sierra 1500 crew cab slt       good   \n",
       "28  auburn  22590  2010.0    chevrolet            silverado 1500       good   \n",
       "29  auburn  39590  2020.0    chevrolet       silverado 1500 crew       good   \n",
       "30  auburn  30990  2017.0       toyota      tundra double cab sr       good   \n",
       "31  auburn  15000  2013.0         ford                 f-150 xlt  excellent   \n",
       "\n",
       "      cylinders fuel  odometer title_status transmission drive       size  \\\n",
       "27  8 cylinders  gas   57923.0        clean        other   NaN        NaN   \n",
       "28  8 cylinders  gas   71229.0        clean        other   NaN        NaN   \n",
       "29  8 cylinders  gas   19160.0        clean        other   NaN        NaN   \n",
       "30  8 cylinders  gas   41124.0        clean        other   NaN        NaN   \n",
       "31  6 cylinders  gas  128000.0        clean    automatic   rwd  full-size   \n",
       "\n",
       "      type paint_color state     lat     long              posting_date  \n",
       "27  pickup       white    al  32.590 -85.4800  2021-05-04T12:31:18-0500  \n",
       "28  pickup        blue    al  32.590 -85.4800  2021-05-04T12:31:08-0500  \n",
       "29  pickup         red    al  32.590 -85.4800  2021-05-04T12:31:25-0500  \n",
       "30  pickup         red    al  32.590 -85.4800  2021-05-04T10:41:31-0500  \n",
       "31   truck       black    al  32.592 -85.5189  2021-05-03T14:02:03-0500  "
      ]
     },
     "execution_count": 50,
     "metadata": {},
     "output_type": "execute_result"
    }
   ],
   "source": [
    "clean_df.head()"
   ]
  },
  {
   "cell_type": "code",
   "execution_count": 51,
   "id": "a2573fce",
   "metadata": {},
   "outputs": [
    {
     "data": {
      "text/plain": [
       "(56, 19)"
      ]
     },
     "execution_count": 51,
     "metadata": {},
     "output_type": "execute_result"
    }
   ],
   "source": [
    "clean_df[clean_df['price'] > 200000].shape"
   ]
  },
  {
   "cell_type": "code",
   "execution_count": 52,
   "id": "fd09d130",
   "metadata": {},
   "outputs": [
    {
     "name": "stdout",
     "output_type": "stream",
     "text": [
      "<class 'pandas.core.frame.DataFrame'>\n",
      "Int64Index: 383592 entries, 27 to 426879\n",
      "Data columns (total 19 columns):\n",
      " #   Column        Non-Null Count   Dtype  \n",
      "---  ------        --------------   -----  \n",
      " 0   region        383592 non-null  object \n",
      " 1   price         383592 non-null  int64  \n",
      " 2   year          382482 non-null  float64\n",
      " 3   manufacturer  368138 non-null  object \n",
      " 4   model         379168 non-null  object \n",
      " 5   condition     235395 non-null  object \n",
      " 6   cylinders     226753 non-null  object \n",
      " 7   fuel          381270 non-null  object \n",
      " 8   odometer      383592 non-null  float64\n",
      " 9   title_status  376128 non-null  object \n",
      " 10  transmission  382074 non-null  object \n",
      " 11  drive         266432 non-null  object \n",
      " 12  size          106830 non-null  object \n",
      " 13  type          301012 non-null  object \n",
      " 14  paint_color   270144 non-null  object \n",
      " 15  state         383592 non-null  object \n",
      " 16  lat           380184 non-null  float64\n",
      " 17  long          380184 non-null  float64\n",
      " 18  posting_date  383592 non-null  object \n",
      "dtypes: float64(4), int64(1), object(14)\n",
      "memory usage: 58.5+ MB\n"
     ]
    }
   ],
   "source": [
    "clean_df.info()"
   ]
  },
  {
   "cell_type": "code",
   "execution_count": 53,
   "id": "74ea572d",
   "metadata": {},
   "outputs": [
    {
     "data": {
      "text/plain": [
       "0.8985944527736132"
      ]
     },
     "execution_count": 53,
     "metadata": {},
     "output_type": "execute_result"
    }
   ],
   "source": [
    "clean_df.shape[0] / raw_df.shape[0]"
   ]
  },
  {
   "cell_type": "markdown",
   "id": "cb00f514",
   "metadata": {},
   "source": [
    "We're now working with ~89% of the data we had before cleaning.  Not bad!"
   ]
  },
  {
   "cell_type": "markdown",
   "id": "39fe9a7d",
   "metadata": {},
   "source": [
    "Let's how our prices fit to each manufacturer"
   ]
  },
  {
   "cell_type": "code",
   "execution_count": 54,
   "id": "040a7bef",
   "metadata": {},
   "outputs": [
    {
     "data": {
      "text/html": [
       "<div>\n",
       "<style scoped>\n",
       "    .dataframe tbody tr th:only-of-type {\n",
       "        vertical-align: middle;\n",
       "    }\n",
       "\n",
       "    .dataframe tbody tr th {\n",
       "        vertical-align: top;\n",
       "    }\n",
       "\n",
       "    .dataframe thead th {\n",
       "        text-align: right;\n",
       "    }\n",
       "</style>\n",
       "<table border=\"1\" class=\"dataframe\">\n",
       "  <thead>\n",
       "    <tr style=\"text-align: right;\">\n",
       "      <th></th>\n",
       "      <th>price</th>\n",
       "    </tr>\n",
       "    <tr>\n",
       "      <th>manufacturer</th>\n",
       "      <th></th>\n",
       "    </tr>\n",
       "  </thead>\n",
       "  <tbody>\n",
       "    <tr>\n",
       "      <th>ferrari</th>\n",
       "      <td>126426.067568</td>\n",
       "    </tr>\n",
       "    <tr>\n",
       "      <th>aston-martin</th>\n",
       "      <td>61136.619048</td>\n",
       "    </tr>\n",
       "    <tr>\n",
       "      <th>tesla</th>\n",
       "      <td>39532.069880</td>\n",
       "    </tr>\n",
       "    <tr>\n",
       "      <th>porsche</th>\n",
       "      <td>34402.292063</td>\n",
       "    </tr>\n",
       "    <tr>\n",
       "      <th>ram</th>\n",
       "      <td>30121.412393</td>\n",
       "    </tr>\n",
       "    <tr>\n",
       "      <th>rover</th>\n",
       "      <td>29189.839836</td>\n",
       "    </tr>\n",
       "    <tr>\n",
       "      <th>alfa-romeo</th>\n",
       "      <td>28980.778935</td>\n",
       "    </tr>\n",
       "    <tr>\n",
       "      <th>jaguar</th>\n",
       "      <td>27311.390567</td>\n",
       "    </tr>\n",
       "    <tr>\n",
       "      <th>gmc</th>\n",
       "      <td>25256.820958</td>\n",
       "    </tr>\n",
       "    <tr>\n",
       "      <th>audi</th>\n",
       "      <td>25098.573473</td>\n",
       "    </tr>\n",
       "    <tr>\n",
       "      <th>mercedes-benz</th>\n",
       "      <td>22310.721945</td>\n",
       "    </tr>\n",
       "    <tr>\n",
       "      <th>infiniti</th>\n",
       "      <td>21291.402746</td>\n",
       "    </tr>\n",
       "    <tr>\n",
       "      <th>ford</th>\n",
       "      <td>21193.556358</td>\n",
       "    </tr>\n",
       "    <tr>\n",
       "      <th>acura</th>\n",
       "      <td>20966.185402</td>\n",
       "    </tr>\n",
       "    <tr>\n",
       "      <th>cadillac</th>\n",
       "      <td>20719.187111</td>\n",
       "    </tr>\n",
       "    <tr>\n",
       "      <th>bmw</th>\n",
       "      <td>20629.733368</td>\n",
       "    </tr>\n",
       "    <tr>\n",
       "      <th>lincoln</th>\n",
       "      <td>20587.284203</td>\n",
       "    </tr>\n",
       "    <tr>\n",
       "      <th>lexus</th>\n",
       "      <td>20570.458872</td>\n",
       "    </tr>\n",
       "    <tr>\n",
       "      <th>chevrolet</th>\n",
       "      <td>20171.101840</td>\n",
       "    </tr>\n",
       "    <tr>\n",
       "      <th>jeep</th>\n",
       "      <td>19866.190319</td>\n",
       "    </tr>\n",
       "    <tr>\n",
       "      <th>volvo</th>\n",
       "      <td>18594.276503</td>\n",
       "    </tr>\n",
       "    <tr>\n",
       "      <th>toyota</th>\n",
       "      <td>17241.312095</td>\n",
       "    </tr>\n",
       "    <tr>\n",
       "      <th>datsun</th>\n",
       "      <td>16214.275862</td>\n",
       "    </tr>\n",
       "    <tr>\n",
       "      <th>dodge</th>\n",
       "      <td>16186.778187</td>\n",
       "    </tr>\n",
       "    <tr>\n",
       "      <th>buick</th>\n",
       "      <td>15415.366211</td>\n",
       "    </tr>\n",
       "    <tr>\n",
       "      <th>land rover</th>\n",
       "      <td>15103.000000</td>\n",
       "    </tr>\n",
       "    <tr>\n",
       "      <th>mini</th>\n",
       "      <td>14984.886852</td>\n",
       "    </tr>\n",
       "    <tr>\n",
       "      <th>mitsubishi</th>\n",
       "      <td>14783.976652</td>\n",
       "    </tr>\n",
       "    <tr>\n",
       "      <th>subaru</th>\n",
       "      <td>13887.874643</td>\n",
       "    </tr>\n",
       "    <tr>\n",
       "      <th>mazda</th>\n",
       "      <td>13458.425285</td>\n",
       "    </tr>\n",
       "    <tr>\n",
       "      <th>harley-davidson</th>\n",
       "      <td>13384.140741</td>\n",
       "    </tr>\n",
       "    <tr>\n",
       "      <th>volkswagen</th>\n",
       "      <td>13279.466812</td>\n",
       "    </tr>\n",
       "    <tr>\n",
       "      <th>morgan</th>\n",
       "      <td>13100.000000</td>\n",
       "    </tr>\n",
       "    <tr>\n",
       "      <th>nissan</th>\n",
       "      <td>13085.753051</td>\n",
       "    </tr>\n",
       "    <tr>\n",
       "      <th>kia</th>\n",
       "      <td>12488.888305</td>\n",
       "    </tr>\n",
       "    <tr>\n",
       "      <th>fiat</th>\n",
       "      <td>12400.469496</td>\n",
       "    </tr>\n",
       "    <tr>\n",
       "      <th>hyundai</th>\n",
       "      <td>11924.283894</td>\n",
       "    </tr>\n",
       "    <tr>\n",
       "      <th>honda</th>\n",
       "      <td>11627.829670</td>\n",
       "    </tr>\n",
       "    <tr>\n",
       "      <th>chrysler</th>\n",
       "      <td>11264.741935</td>\n",
       "    </tr>\n",
       "    <tr>\n",
       "      <th>pontiac</th>\n",
       "      <td>8443.168736</td>\n",
       "    </tr>\n",
       "    <tr>\n",
       "      <th>mercury</th>\n",
       "      <td>5757.135063</td>\n",
       "    </tr>\n",
       "    <tr>\n",
       "      <th>saturn</th>\n",
       "      <td>5171.735992</td>\n",
       "    </tr>\n",
       "  </tbody>\n",
       "</table>\n",
       "</div>"
      ],
      "text/plain": [
       "                         price\n",
       "manufacturer                  \n",
       "ferrari          126426.067568\n",
       "aston-martin      61136.619048\n",
       "tesla             39532.069880\n",
       "porsche           34402.292063\n",
       "ram               30121.412393\n",
       "rover             29189.839836\n",
       "alfa-romeo        28980.778935\n",
       "jaguar            27311.390567\n",
       "gmc               25256.820958\n",
       "audi              25098.573473\n",
       "mercedes-benz     22310.721945\n",
       "infiniti          21291.402746\n",
       "ford              21193.556358\n",
       "acura             20966.185402\n",
       "cadillac          20719.187111\n",
       "bmw               20629.733368\n",
       "lincoln           20587.284203\n",
       "lexus             20570.458872\n",
       "chevrolet         20171.101840\n",
       "jeep              19866.190319\n",
       "volvo             18594.276503\n",
       "toyota            17241.312095\n",
       "datsun            16214.275862\n",
       "dodge             16186.778187\n",
       "buick             15415.366211\n",
       "land rover        15103.000000\n",
       "mini              14984.886852\n",
       "mitsubishi        14783.976652\n",
       "subaru            13887.874643\n",
       "mazda             13458.425285\n",
       "harley-davidson   13384.140741\n",
       "volkswagen        13279.466812\n",
       "morgan            13100.000000\n",
       "nissan            13085.753051\n",
       "kia               12488.888305\n",
       "fiat              12400.469496\n",
       "hyundai           11924.283894\n",
       "honda             11627.829670\n",
       "chrysler          11264.741935\n",
       "pontiac            8443.168736\n",
       "mercury            5757.135063\n",
       "saturn             5171.735992"
      ]
     },
     "execution_count": 54,
     "metadata": {},
     "output_type": "execute_result"
    }
   ],
   "source": [
    "make_price_means = clean_df.groupby('manufacturer')[['price']].mean()\n",
    "make_price_means.sort_values(by='price', ascending=False)"
   ]
  },
  {
   "cell_type": "markdown",
   "id": "cc031dfc",
   "metadata": {},
   "source": [
    "Looks about right!"
   ]
  },
  {
   "cell_type": "markdown",
   "id": "31400a6b",
   "metadata": {},
   "source": [
    "Let's check the most expensive 1% of vehicles.  What manufacturer are they? "
   ]
  },
  {
   "cell_type": "code",
   "execution_count": 55,
   "id": "e33adf78",
   "metadata": {},
   "outputs": [
    {
     "data": {
      "text/html": [
       "<div>\n",
       "<style scoped>\n",
       "    .dataframe tbody tr th:only-of-type {\n",
       "        vertical-align: middle;\n",
       "    }\n",
       "\n",
       "    .dataframe tbody tr th {\n",
       "        vertical-align: top;\n",
       "    }\n",
       "\n",
       "    .dataframe thead th {\n",
       "        text-align: right;\n",
       "    }\n",
       "</style>\n",
       "<table border=\"1\" class=\"dataframe\">\n",
       "  <thead>\n",
       "    <tr style=\"text-align: right;\">\n",
       "      <th></th>\n",
       "      <th>price</th>\n",
       "    </tr>\n",
       "    <tr>\n",
       "      <th>manufacturer</th>\n",
       "      <th></th>\n",
       "    </tr>\n",
       "  </thead>\n",
       "  <tbody>\n",
       "    <tr>\n",
       "      <th>ford</th>\n",
       "      <td>999999</td>\n",
       "    </tr>\n",
       "    <tr>\n",
       "      <th>mercedes-benz</th>\n",
       "      <td>990000</td>\n",
       "    </tr>\n",
       "    <tr>\n",
       "      <th>gmc</th>\n",
       "      <td>777777</td>\n",
       "    </tr>\n",
       "    <tr>\n",
       "      <th>chrysler</th>\n",
       "      <td>655000</td>\n",
       "    </tr>\n",
       "    <tr>\n",
       "      <th>ferrari</th>\n",
       "      <td>449500</td>\n",
       "    </tr>\n",
       "    <tr>\n",
       "      <th>jeep</th>\n",
       "      <td>425000</td>\n",
       "    </tr>\n",
       "    <tr>\n",
       "      <th>porsche</th>\n",
       "      <td>304995</td>\n",
       "    </tr>\n",
       "    <tr>\n",
       "      <th>lincoln</th>\n",
       "      <td>215000</td>\n",
       "    </tr>\n",
       "    <tr>\n",
       "      <th>cadillac</th>\n",
       "      <td>195000</td>\n",
       "    </tr>\n",
       "    <tr>\n",
       "      <th>dodge</th>\n",
       "      <td>180000</td>\n",
       "    </tr>\n",
       "    <tr>\n",
       "      <th>aston-martin</th>\n",
       "      <td>179888</td>\n",
       "    </tr>\n",
       "    <tr>\n",
       "      <th>nissan</th>\n",
       "      <td>169999</td>\n",
       "    </tr>\n",
       "    <tr>\n",
       "      <th>audi</th>\n",
       "      <td>160000</td>\n",
       "    </tr>\n",
       "    <tr>\n",
       "      <th>chevrolet</th>\n",
       "      <td>152995</td>\n",
       "    </tr>\n",
       "    <tr>\n",
       "      <th>jaguar</th>\n",
       "      <td>150000</td>\n",
       "    </tr>\n",
       "    <tr>\n",
       "      <th>volkswagen</th>\n",
       "      <td>149000</td>\n",
       "    </tr>\n",
       "    <tr>\n",
       "      <th>ram</th>\n",
       "      <td>148000</td>\n",
       "    </tr>\n",
       "    <tr>\n",
       "      <th>volvo</th>\n",
       "      <td>144832</td>\n",
       "    </tr>\n",
       "    <tr>\n",
       "      <th>acura</th>\n",
       "      <td>139999</td>\n",
       "    </tr>\n",
       "    <tr>\n",
       "      <th>bmw</th>\n",
       "      <td>138000</td>\n",
       "    </tr>\n",
       "    <tr>\n",
       "      <th>toyota</th>\n",
       "      <td>131500</td>\n",
       "    </tr>\n",
       "    <tr>\n",
       "      <th>rover</th>\n",
       "      <td>129888</td>\n",
       "    </tr>\n",
       "    <tr>\n",
       "      <th>honda</th>\n",
       "      <td>123456</td>\n",
       "    </tr>\n",
       "    <tr>\n",
       "      <th>subaru</th>\n",
       "      <td>123456</td>\n",
       "    </tr>\n",
       "  </tbody>\n",
       "</table>\n",
       "</div>"
      ],
      "text/plain": [
       "                price\n",
       "manufacturer         \n",
       "ford           999999\n",
       "mercedes-benz  990000\n",
       "gmc            777777\n",
       "chrysler       655000\n",
       "ferrari        449500\n",
       "jeep           425000\n",
       "porsche        304995\n",
       "lincoln        215000\n",
       "cadillac       195000\n",
       "dodge          180000\n",
       "aston-martin   179888\n",
       "nissan         169999\n",
       "audi           160000\n",
       "chevrolet      152995\n",
       "jaguar         150000\n",
       "volkswagen     149000\n",
       "ram            148000\n",
       "volvo          144832\n",
       "acura          139999\n",
       "bmw            138000\n",
       "toyota         131500\n",
       "rover          129888\n",
       "honda          123456\n",
       "subaru         123456"
      ]
     },
     "execution_count": 55,
     "metadata": {},
     "output_type": "execute_result"
    }
   ],
   "source": [
    "percentage=round(len(clean_df)/100*0.1) \n",
    "top_one = clean_df.sort_values(by='price', ascending=False).head(percentage)\n",
    "\n",
    "top_one.groupby('manufacturer')[['price']].max().sort_values(by='price', ascending=False)"
   ]
  },
  {
   "cell_type": "markdown",
   "id": "91755a6a",
   "metadata": {},
   "source": [
    "According to [this article](https://www.hotcars.com/most-expensive-ford-cars-2022/#2023-ford-f-150-limited---84-910), the most expensive ford on the market is `$500k`, so let's trim that.  Also, [this page](https://getjerry.com/questions/what-is-the-most-expensive-gmc) indicates GMCs top out around `$70,600`. [This](https://rarest.org/stuff/expensive-jeeps) suggests Jeeps top out around `$225,000`"
   ]
  },
  {
   "cell_type": "code",
   "execution_count": 56,
   "id": "92ae9819",
   "metadata": {},
   "outputs": [
    {
     "data": {
      "text/plain": [
       "70378"
      ]
     },
     "execution_count": 56,
     "metadata": {},
     "output_type": "execute_result"
    }
   ],
   "source": [
    "# 'remove too expensive entries for GMC\n",
    "clean_df = clean_df[~((clean_df['price'] > 70600) & (clean_df['manufacturer'] == 'gmc'))]\n",
    "clean_df[clean_df['manufacturer'] == 'gmc']['price'].max()"
   ]
  },
  {
   "cell_type": "code",
   "execution_count": 57,
   "id": "c80b5618",
   "metadata": {},
   "outputs": [
    {
     "data": {
      "text/plain": [
       "225000"
      ]
     },
     "execution_count": 57,
     "metadata": {},
     "output_type": "execute_result"
    }
   ],
   "source": [
    "# 'remove too expensive entries for ford\n",
    "clean_df = clean_df[~((clean_df['price'] > 500000) & (clean_df['manufacturer'] == 'ford'))]\n",
    "clean_df[clean_df['manufacturer'] == 'ford']['price'].max()"
   ]
  },
  {
   "cell_type": "code",
   "execution_count": 58,
   "id": "762a6e37",
   "metadata": {},
   "outputs": [
    {
     "data": {
      "text/plain": [
       "140000"
      ]
     },
     "execution_count": 58,
     "metadata": {},
     "output_type": "execute_result"
    }
   ],
   "source": [
    "# 'remove too expensive entries for Jeep\n",
    "clean_df = clean_df[~((clean_df['price'] > 225000) & (clean_df['manufacturer'] == 'jeep'))]\n",
    "clean_df[clean_df['manufacturer'] == 'jeep']['price'].max()"
   ]
  },
  {
   "cell_type": "markdown",
   "id": "4706b067",
   "metadata": {},
   "source": [
    "## [Step 4: Data Enriching](https://hevodata.com/learn/data-wrangling/#s4)\n",
    "At this stage of the Data Wrangling process, you’ve become familiar with, and have a deep understanding of the data at hand. \n",
    "\n",
    "Now the question is, do you want to embellish or enrich the data? Do you want it augmented with other data?\n",
    "\n",
    "Combining your raw data with additional data from other sources such as internal systems, third-party providers, etc. will help you accumulate even more data points to improve the accuracy of your analysis. Alternatively, your goal might be to simply fill in gaps in the data. For instance, combining two databases of customer information where one contains customer addresses, and the other one doesn’t. \n",
    "\n",
    "Enriching the data is an optional step that you only need to take if your current data doesn’t meet your requirements."
   ]
  },
  {
   "cell_type": "markdown",
   "id": "14407b24",
   "metadata": {},
   "source": [
    "We should calculate the age of the vehicle, by subtracting the current year from the year the cehicle was made"
   ]
  },
  {
   "cell_type": "code",
   "execution_count": 59,
   "id": "4fdd84bf",
   "metadata": {},
   "outputs": [
    {
     "name": "stdout",
     "output_type": "stream",
     "text": [
      "2021-04-04T00:10:40-0700\n",
      "2021-05-04T23:24:09-0500\n"
     ]
    }
   ],
   "source": [
    "print(clean_df['posting_date'].min())\n",
    "print(clean_df['posting_date'].max())"
   ]
  },
  {
   "cell_type": "markdown",
   "id": "bcb08d52",
   "metadata": {},
   "source": [
    "There doesnt appear to be much range in this posting date, so I think we can round up, and subtract to get a sense of the age of the vehicle"
   ]
  },
  {
   "cell_type": "code",
   "execution_count": 60,
   "id": "48c3c9fc",
   "metadata": {},
   "outputs": [],
   "source": [
    "clean_df['age_of_vehicle'] = 2022 - clean_df['year']"
   ]
  },
  {
   "cell_type": "code",
   "execution_count": 61,
   "id": "d4cda66d",
   "metadata": {},
   "outputs": [
    {
     "data": {
      "text/html": [
       "<div>\n",
       "<style scoped>\n",
       "    .dataframe tbody tr th:only-of-type {\n",
       "        vertical-align: middle;\n",
       "    }\n",
       "\n",
       "    .dataframe tbody tr th {\n",
       "        vertical-align: top;\n",
       "    }\n",
       "\n",
       "    .dataframe thead th {\n",
       "        text-align: right;\n",
       "    }\n",
       "</style>\n",
       "<table border=\"1\" class=\"dataframe\">\n",
       "  <thead>\n",
       "    <tr style=\"text-align: right;\">\n",
       "      <th></th>\n",
       "      <th>region</th>\n",
       "      <th>price</th>\n",
       "      <th>year</th>\n",
       "      <th>manufacturer</th>\n",
       "      <th>model</th>\n",
       "      <th>condition</th>\n",
       "      <th>cylinders</th>\n",
       "      <th>fuel</th>\n",
       "      <th>odometer</th>\n",
       "      <th>title_status</th>\n",
       "      <th>transmission</th>\n",
       "      <th>drive</th>\n",
       "      <th>size</th>\n",
       "      <th>type</th>\n",
       "      <th>paint_color</th>\n",
       "      <th>state</th>\n",
       "      <th>lat</th>\n",
       "      <th>long</th>\n",
       "      <th>posting_date</th>\n",
       "      <th>age_of_vehicle</th>\n",
       "    </tr>\n",
       "  </thead>\n",
       "  <tbody>\n",
       "    <tr>\n",
       "      <th>27</th>\n",
       "      <td>auburn</td>\n",
       "      <td>33590</td>\n",
       "      <td>2014.0</td>\n",
       "      <td>gmc</td>\n",
       "      <td>sierra 1500 crew cab slt</td>\n",
       "      <td>good</td>\n",
       "      <td>8 cylinders</td>\n",
       "      <td>gas</td>\n",
       "      <td>57923.0</td>\n",
       "      <td>clean</td>\n",
       "      <td>other</td>\n",
       "      <td>NaN</td>\n",
       "      <td>NaN</td>\n",
       "      <td>pickup</td>\n",
       "      <td>white</td>\n",
       "      <td>al</td>\n",
       "      <td>32.590</td>\n",
       "      <td>-85.4800</td>\n",
       "      <td>2021-05-04T12:31:18-0500</td>\n",
       "      <td>8.0</td>\n",
       "    </tr>\n",
       "    <tr>\n",
       "      <th>28</th>\n",
       "      <td>auburn</td>\n",
       "      <td>22590</td>\n",
       "      <td>2010.0</td>\n",
       "      <td>chevrolet</td>\n",
       "      <td>silverado 1500</td>\n",
       "      <td>good</td>\n",
       "      <td>8 cylinders</td>\n",
       "      <td>gas</td>\n",
       "      <td>71229.0</td>\n",
       "      <td>clean</td>\n",
       "      <td>other</td>\n",
       "      <td>NaN</td>\n",
       "      <td>NaN</td>\n",
       "      <td>pickup</td>\n",
       "      <td>blue</td>\n",
       "      <td>al</td>\n",
       "      <td>32.590</td>\n",
       "      <td>-85.4800</td>\n",
       "      <td>2021-05-04T12:31:08-0500</td>\n",
       "      <td>12.0</td>\n",
       "    </tr>\n",
       "    <tr>\n",
       "      <th>29</th>\n",
       "      <td>auburn</td>\n",
       "      <td>39590</td>\n",
       "      <td>2020.0</td>\n",
       "      <td>chevrolet</td>\n",
       "      <td>silverado 1500 crew</td>\n",
       "      <td>good</td>\n",
       "      <td>8 cylinders</td>\n",
       "      <td>gas</td>\n",
       "      <td>19160.0</td>\n",
       "      <td>clean</td>\n",
       "      <td>other</td>\n",
       "      <td>NaN</td>\n",
       "      <td>NaN</td>\n",
       "      <td>pickup</td>\n",
       "      <td>red</td>\n",
       "      <td>al</td>\n",
       "      <td>32.590</td>\n",
       "      <td>-85.4800</td>\n",
       "      <td>2021-05-04T12:31:25-0500</td>\n",
       "      <td>2.0</td>\n",
       "    </tr>\n",
       "    <tr>\n",
       "      <th>30</th>\n",
       "      <td>auburn</td>\n",
       "      <td>30990</td>\n",
       "      <td>2017.0</td>\n",
       "      <td>toyota</td>\n",
       "      <td>tundra double cab sr</td>\n",
       "      <td>good</td>\n",
       "      <td>8 cylinders</td>\n",
       "      <td>gas</td>\n",
       "      <td>41124.0</td>\n",
       "      <td>clean</td>\n",
       "      <td>other</td>\n",
       "      <td>NaN</td>\n",
       "      <td>NaN</td>\n",
       "      <td>pickup</td>\n",
       "      <td>red</td>\n",
       "      <td>al</td>\n",
       "      <td>32.590</td>\n",
       "      <td>-85.4800</td>\n",
       "      <td>2021-05-04T10:41:31-0500</td>\n",
       "      <td>5.0</td>\n",
       "    </tr>\n",
       "    <tr>\n",
       "      <th>31</th>\n",
       "      <td>auburn</td>\n",
       "      <td>15000</td>\n",
       "      <td>2013.0</td>\n",
       "      <td>ford</td>\n",
       "      <td>f-150 xlt</td>\n",
       "      <td>excellent</td>\n",
       "      <td>6 cylinders</td>\n",
       "      <td>gas</td>\n",
       "      <td>128000.0</td>\n",
       "      <td>clean</td>\n",
       "      <td>automatic</td>\n",
       "      <td>rwd</td>\n",
       "      <td>full-size</td>\n",
       "      <td>truck</td>\n",
       "      <td>black</td>\n",
       "      <td>al</td>\n",
       "      <td>32.592</td>\n",
       "      <td>-85.5189</td>\n",
       "      <td>2021-05-03T14:02:03-0500</td>\n",
       "      <td>9.0</td>\n",
       "    </tr>\n",
       "  </tbody>\n",
       "</table>\n",
       "</div>"
      ],
      "text/plain": [
       "    region  price    year manufacturer                     model  condition  \\\n",
       "27  auburn  33590  2014.0          gmc  sierra 1500 crew cab slt       good   \n",
       "28  auburn  22590  2010.0    chevrolet            silverado 1500       good   \n",
       "29  auburn  39590  2020.0    chevrolet       silverado 1500 crew       good   \n",
       "30  auburn  30990  2017.0       toyota      tundra double cab sr       good   \n",
       "31  auburn  15000  2013.0         ford                 f-150 xlt  excellent   \n",
       "\n",
       "      cylinders fuel  odometer title_status transmission drive       size  \\\n",
       "27  8 cylinders  gas   57923.0        clean        other   NaN        NaN   \n",
       "28  8 cylinders  gas   71229.0        clean        other   NaN        NaN   \n",
       "29  8 cylinders  gas   19160.0        clean        other   NaN        NaN   \n",
       "30  8 cylinders  gas   41124.0        clean        other   NaN        NaN   \n",
       "31  6 cylinders  gas  128000.0        clean    automatic   rwd  full-size   \n",
       "\n",
       "      type paint_color state     lat     long              posting_date  \\\n",
       "27  pickup       white    al  32.590 -85.4800  2021-05-04T12:31:18-0500   \n",
       "28  pickup        blue    al  32.590 -85.4800  2021-05-04T12:31:08-0500   \n",
       "29  pickup         red    al  32.590 -85.4800  2021-05-04T12:31:25-0500   \n",
       "30  pickup         red    al  32.590 -85.4800  2021-05-04T10:41:31-0500   \n",
       "31   truck       black    al  32.592 -85.5189  2021-05-03T14:02:03-0500   \n",
       "\n",
       "    age_of_vehicle  \n",
       "27             8.0  \n",
       "28            12.0  \n",
       "29             2.0  \n",
       "30             5.0  \n",
       "31             9.0  "
      ]
     },
     "execution_count": 61,
     "metadata": {},
     "output_type": "execute_result"
    }
   ],
   "source": [
    "clean_df.head()"
   ]
  },
  {
   "cell_type": "code",
   "execution_count": 62,
   "id": "06dd10fd",
   "metadata": {},
   "outputs": [
    {
     "data": {
      "text/html": [
       "<div>\n",
       "<style scoped>\n",
       "    .dataframe tbody tr th:only-of-type {\n",
       "        vertical-align: middle;\n",
       "    }\n",
       "\n",
       "    .dataframe tbody tr th {\n",
       "        vertical-align: top;\n",
       "    }\n",
       "\n",
       "    .dataframe thead th {\n",
       "        text-align: right;\n",
       "    }\n",
       "</style>\n",
       "<table border=\"1\" class=\"dataframe\">\n",
       "  <thead>\n",
       "    <tr style=\"text-align: right;\">\n",
       "      <th></th>\n",
       "      <th>price</th>\n",
       "    </tr>\n",
       "    <tr>\n",
       "      <th>age_of_vehicle</th>\n",
       "      <th></th>\n",
       "    </tr>\n",
       "  </thead>\n",
       "  <tbody>\n",
       "    <tr>\n",
       "      <th>109.0</th>\n",
       "      <td>85000.000000</td>\n",
       "    </tr>\n",
       "    <tr>\n",
       "      <th>89.0</th>\n",
       "      <td>48430.000000</td>\n",
       "    </tr>\n",
       "    <tr>\n",
       "      <th>2.0</th>\n",
       "      <td>37030.773600</td>\n",
       "    </tr>\n",
       "    <tr>\n",
       "      <th>88.0</th>\n",
       "      <td>34575.236842</td>\n",
       "    </tr>\n",
       "    <tr>\n",
       "      <th>90.0</th>\n",
       "      <td>34367.340000</td>\n",
       "    </tr>\n",
       "    <tr>\n",
       "      <th>...</th>\n",
       "      <td>...</td>\n",
       "    </tr>\n",
       "    <tr>\n",
       "      <th>77.0</th>\n",
       "      <td>6800.000000</td>\n",
       "    </tr>\n",
       "    <tr>\n",
       "      <th>107.0</th>\n",
       "      <td>5000.000000</td>\n",
       "    </tr>\n",
       "    <tr>\n",
       "      <th>78.0</th>\n",
       "      <td>4733.333333</td>\n",
       "    </tr>\n",
       "    <tr>\n",
       "      <th>117.0</th>\n",
       "      <td>3990.000000</td>\n",
       "    </tr>\n",
       "    <tr>\n",
       "      <th>121.0</th>\n",
       "      <td>999.000000</td>\n",
       "    </tr>\n",
       "  </tbody>\n",
       "</table>\n",
       "<p>111 rows × 1 columns</p>\n",
       "</div>"
      ],
      "text/plain": [
       "                       price\n",
       "age_of_vehicle              \n",
       "109.0           85000.000000\n",
       "89.0            48430.000000\n",
       "2.0             37030.773600\n",
       "88.0            34575.236842\n",
       "90.0            34367.340000\n",
       "...                      ...\n",
       "77.0             6800.000000\n",
       "107.0            5000.000000\n",
       "78.0             4733.333333\n",
       "117.0            3990.000000\n",
       "121.0             999.000000\n",
       "\n",
       "[111 rows x 1 columns]"
      ]
     },
     "execution_count": 62,
     "metadata": {},
     "output_type": "execute_result"
    }
   ],
   "source": [
    "age_price_means = clean_df.groupby('age_of_vehicle')[['price']].mean()\n",
    "age_price_means.sort_values(by='price', ascending=False)"
   ]
  },
  {
   "cell_type": "code",
   "execution_count": 63,
   "id": "be595683",
   "metadata": {},
   "outputs": [
    {
     "data": {
      "image/png": "[encoded data removed]",
      "text/plain": [
       "<Figure size 640x480 with 1 Axes>"
      ]
     },
     "metadata": {},
     "output_type": "display_data"
    }
   ],
   "source": [
    "age_price_means.plot()\n",
    "plt.show()"
   ]
  },
  {
   "cell_type": "markdown",
   "id": "2486cc0f",
   "metadata": {},
   "source": [
    "Very interesting!  It looks like brand new cars are a little more expensive, then that average price drops pretty quickly -- and steadily.  Then these prices both ramp up, and get volitile.  Maybe the volitility is dependant on the wuality of the vehicle?"
   ]
  },
  {
   "cell_type": "markdown",
   "id": "ffad5941",
   "metadata": {},
   "source": [
    "## [Step 5: Data Validating](https://hevodata.com/learn/data-wrangling/#s5)\n",
    "Validating the data is an activity that services any issues in the quality of your data so they can be addressed with the appropriate transformations. \n",
    "\n",
    "The rules of data validation require repetitive programming processes that help to verify the following:\n",
    "\n",
    "- Quality\n",
    "- Consistency\n",
    "- Accuracy\n",
    "- Security\n",
    "- Authenticity\n",
    "\n",
    "This is done by checking things such as whether the fields in the datasets are accurate, and if attributes are normally distributed. Preprogrammed scripts are used to compare the data’s attributes with defined rules. \n",
    "\n",
    "This is a great example of the overlap that sometimes happens between Data Cleaning and Data Wrangling – Validation is the Key to Both. \n",
    "\n",
    "This process may need to be repeated several times since you are likely to find errors."
   ]
  },
  {
   "cell_type": "markdown",
   "id": "9a9349c9",
   "metadata": {},
   "source": [
    "We had done some validating of this data in cells 39 - 49.  But we can carry onto the other tasks.  Let's fill some nan values with the default labels."
   ]
  },
  {
   "cell_type": "code",
   "execution_count": 64,
   "id": "471e1c69",
   "metadata": {},
   "outputs": [
    {
     "data": {
      "text/plain": [
       "array(['8 cylinders', '6 cylinders', nan, '4 cylinders', '5 cylinders',\n",
       "       'other', '3 cylinders', '10 cylinders', '12 cylinders'],\n",
       "      dtype=object)"
      ]
     },
     "execution_count": 64,
     "metadata": {},
     "output_type": "execute_result"
    }
   ],
   "source": [
    "clean_df['cylinders'].unique()"
   ]
  },
  {
   "cell_type": "markdown",
   "id": "af5162f5",
   "metadata": {},
   "source": [
    "Let's fill these NaNs with 'other'"
   ]
  },
  {
   "cell_type": "code",
   "execution_count": 65,
   "id": "ccd600cf",
   "metadata": {},
   "outputs": [
    {
     "data": {
      "text/plain": [
       "array(['8 cylinders', '6 cylinders', 'other', '4 cylinders',\n",
       "       '5 cylinders', '3 cylinders', '10 cylinders', '12 cylinders'],\n",
       "      dtype=object)"
      ]
     },
     "execution_count": 65,
     "metadata": {},
     "output_type": "execute_result"
    }
   ],
   "source": [
    "clean_df[['cylinders']] = clean_df[['cylinders']].fillna('other')\n",
    "clean_df['cylinders'].unique()"
   ]
  },
  {
   "cell_type": "code",
   "execution_count": 66,
   "id": "e8c49617",
   "metadata": {},
   "outputs": [
    {
     "data": {
      "text/plain": [
       "array(['gas', 'other', 'diesel', 'hybrid', nan, 'electric'], dtype=object)"
      ]
     },
     "execution_count": 66,
     "metadata": {},
     "output_type": "execute_result"
    }
   ],
   "source": [
    "# same with `fuel`\n",
    "clean_df['fuel'].unique()"
   ]
  },
  {
   "cell_type": "code",
   "execution_count": 67,
   "id": "c53acdd1",
   "metadata": {},
   "outputs": [
    {
     "data": {
      "text/plain": [
       "array(['gas', 'other', 'diesel', 'hybrid', 'electric'], dtype=object)"
      ]
     },
     "execution_count": 67,
     "metadata": {},
     "output_type": "execute_result"
    }
   ],
   "source": [
    "clean_df[['fuel']] = clean_df[['fuel']].fillna('other')\n",
    "clean_df['fuel'].unique()"
   ]
  },
  {
   "cell_type": "code",
   "execution_count": 68,
   "id": "c3715d7a",
   "metadata": {},
   "outputs": [
    {
     "data": {
      "text/plain": [
       "array(['clean', 'rebuilt', nan, 'missing'], dtype=object)"
      ]
     },
     "execution_count": 68,
     "metadata": {},
     "output_type": "execute_result"
    }
   ],
   "source": [
    "clean_df['title_status'].unique()"
   ]
  },
  {
   "cell_type": "code",
   "execution_count": 69,
   "id": "1b43e871",
   "metadata": {},
   "outputs": [
    {
     "data": {
      "text/plain": [
       "array(['clean', 'rebuilt', 'missing'], dtype=object)"
      ]
     },
     "execution_count": 69,
     "metadata": {},
     "output_type": "execute_result"
    }
   ],
   "source": [
    "# we can replace these nan values with the 'missing' label\n",
    "clean_df[['title_status']] = clean_df[['title_status']].fillna('missing')\n",
    "clean_df['title_status'].unique()"
   ]
  },
  {
   "cell_type": "code",
   "execution_count": 70,
   "id": "49e0da4a",
   "metadata": {},
   "outputs": [
    {
     "data": {
      "text/plain": [
       "array(['other', 'automatic', 'manual', nan], dtype=object)"
      ]
     },
     "execution_count": 70,
     "metadata": {},
     "output_type": "execute_result"
    }
   ],
   "source": [
    "# transmission\n",
    "clean_df['transmission'].unique()"
   ]
  },
  {
   "cell_type": "code",
   "execution_count": 71,
   "id": "47b86964",
   "metadata": {},
   "outputs": [
    {
     "data": {
      "text/plain": [
       "array(['other', 'automatic', 'manual'], dtype=object)"
      ]
     },
     "execution_count": 71,
     "metadata": {},
     "output_type": "execute_result"
    }
   ],
   "source": [
    "clean_df[['transmission']] = clean_df[['transmission']].fillna('other')\n",
    "clean_df['transmission'].unique()"
   ]
  },
  {
   "cell_type": "code",
   "execution_count": 72,
   "id": "6d63dc03",
   "metadata": {},
   "outputs": [
    {
     "name": "stdout",
     "output_type": "stream",
     "text": [
      "<class 'pandas.core.frame.DataFrame'>\n",
      "Int64Index: 383352 entries, 27 to 426879\n",
      "Data columns (total 20 columns):\n",
      " #   Column          Non-Null Count   Dtype  \n",
      "---  ------          --------------   -----  \n",
      " 0   region          383352 non-null  object \n",
      " 1   price           383352 non-null  int64  \n",
      " 2   year            382242 non-null  float64\n",
      " 3   manufacturer    367898 non-null  object \n",
      " 4   model           378935 non-null  object \n",
      " 5   condition       235349 non-null  object \n",
      " 6   cylinders       383352 non-null  object \n",
      " 7   fuel            383352 non-null  object \n",
      " 8   odometer        383352 non-null  float64\n",
      " 9   title_status    383352 non-null  object \n",
      " 10  transmission    383352 non-null  object \n",
      " 11  drive           266219 non-null  object \n",
      " 12  size            106815 non-null  object \n",
      " 13  type            300806 non-null  object \n",
      " 14  paint_color     269947 non-null  object \n",
      " 15  state           383352 non-null  object \n",
      " 16  lat             379944 non-null  float64\n",
      " 17  long            379944 non-null  float64\n",
      " 18  posting_date    383352 non-null  object \n",
      " 19  age_of_vehicle  382242 non-null  float64\n",
      "dtypes: float64(5), int64(1), object(14)\n",
      "memory usage: 61.4+ MB\n"
     ]
    }
   ],
   "source": [
    "clean_df.info()"
   ]
  },
  {
   "cell_type": "code",
   "execution_count": 73,
   "id": "d077eca2",
   "metadata": {},
   "outputs": [
    {
     "data": {
      "text/plain": [
       "array(['pickup', 'truck', 'other', nan, 'coupe', 'SUV', 'hatchback',\n",
       "       'mini-van', 'sedan', 'offroad', 'bus', 'convertible', 'wagon',\n",
       "       'van'], dtype=object)"
      ]
     },
     "execution_count": 73,
     "metadata": {},
     "output_type": "execute_result"
    }
   ],
   "source": [
    "clean_df['type'].unique()"
   ]
  },
  {
   "cell_type": "code",
   "execution_count": 74,
   "id": "e40289c3",
   "metadata": {},
   "outputs": [
    {
     "data": {
      "text/plain": [
       "array(['pickup', 'truck', 'other', 'coupe', 'SUV', 'hatchback',\n",
       "       'mini-van', 'sedan', 'offroad', 'bus', 'convertible', 'wagon',\n",
       "       'van'], dtype=object)"
      ]
     },
     "execution_count": 74,
     "metadata": {},
     "output_type": "execute_result"
    }
   ],
   "source": [
    "clean_df[['type']] = clean_df[['type']].fillna('other')\n",
    "clean_df['type'].unique()"
   ]
  },
  {
   "cell_type": "code",
   "execution_count": 75,
   "id": "f78148f3",
   "metadata": {},
   "outputs": [
    {
     "data": {
      "text/plain": [
       "<AxesSubplot:>"
      ]
     },
     "execution_count": 75,
     "metadata": {},
     "output_type": "execute_result"
    },
    {
     "data": {
      "image/png": "[encoded data removed]",
      "text/plain": [
       "<Figure size 640x480 with 1 Axes>"
      ]
     },
     "metadata": {},
     "output_type": "display_data"
    }
   ],
   "source": [
    "clean_df['age_of_vehicle'].hist(bins=84)"
   ]
  },
  {
   "cell_type": "markdown",
   "id": "7c61b4de",
   "metadata": {},
   "source": [
    "Looks like we have a very long tail on the age factor of these vehicles"
   ]
  },
  {
   "cell_type": "markdown",
   "id": "bca8d835",
   "metadata": {},
   "source": [
    "let's see how the price varies by the condition of the vehicle"
   ]
  },
  {
   "cell_type": "code",
   "execution_count": 76,
   "id": "4b161c09",
   "metadata": {},
   "outputs": [
    {
     "data": {
      "text/plain": [
       "<AxesSubplot:xlabel='condition'>"
      ]
     },
     "execution_count": 76,
     "metadata": {},
     "output_type": "execute_result"
    },
    {
     "data": {
      "image/png": "[encoded data removed]",
      "text/plain": [
       "<Figure size 640x480 with 1 Axes>"
      ]
     },
     "metadata": {},
     "output_type": "display_data"
    }
   ],
   "source": [
    "condition_price_means = clean_df.groupby('condition')[['price']].mean()\n",
    "condition_price_means.plot(kind='bar')"
   ]
  },
  {
   "cell_type": "markdown",
   "id": "43451a97",
   "metadata": {},
   "source": [
    "What about by state?"
   ]
  },
  {
   "cell_type": "code",
   "execution_count": 77,
   "id": "7b4a4982",
   "metadata": {},
   "outputs": [
    {
     "data": {
      "text/plain": [
       "<AxesSubplot:xlabel='state'>"
      ]
     },
     "execution_count": 77,
     "metadata": {},
     "output_type": "execute_result"
    },
    {
     "data": {
      "image/png": "[encoded data removed]",
      "text/plain": [
       "<Figure size 640x480 with 1 Axes>"
      ]
     },
     "metadata": {},
     "output_type": "display_data"
    }
   ],
   "source": [
    "state_price_means = clean_df.groupby('state')[['price']].mean()\n",
    "state_price_means.sort_values(by='price').plot(kind='bar')"
   ]
  },
  {
   "cell_type": "code",
   "execution_count": 78,
   "id": "29b398ce",
   "metadata": {},
   "outputs": [],
   "source": [
    "def ecdf(data):\n",
    "    n = len(data)\n",
    "    x = np.sort(data)\n",
    "    y = np.arange(1, n + 1) / n\n",
    "    return x, y"
   ]
  },
  {
   "cell_type": "code",
   "execution_count": 79,
   "id": "9f77c589",
   "metadata": {},
   "outputs": [
    {
     "data": {
      "image/png": "[encoded data removed]",
      "text/plain": [
       "<Figure size 640x480 with 1 Axes>"
      ]
     },
     "metadata": {},
     "output_type": "display_data"
    }
   ],
   "source": [
    "x_vers, y_vers = ecdf(clean_df['price'])\n",
    "plt.plot(x_vers, y_vers, marker = '.', linestyle = 'none')\n",
    "plt.xlabel('')\n",
    "plt.ylabel('ECDF')\n",
    "plt.show()"
   ]
  },
  {
   "cell_type": "markdown",
   "id": "b95e6c6a",
   "metadata": {},
   "source": [
    "## Judgement call!\n",
    "Those last eight entries are skewing this distribution dramatically.  Should they be removed?"
   ]
  },
  {
   "cell_type": "code",
   "execution_count": 80,
   "id": "24a4794b",
   "metadata": {},
   "outputs": [
    {
     "data": {
      "text/html": [
       "<div>\n",
       "<style scoped>\n",
       "    .dataframe tbody tr th:only-of-type {\n",
       "        vertical-align: middle;\n",
       "    }\n",
       "\n",
       "    .dataframe tbody tr th {\n",
       "        vertical-align: top;\n",
       "    }\n",
       "\n",
       "    .dataframe thead th {\n",
       "        text-align: right;\n",
       "    }\n",
       "</style>\n",
       "<table border=\"1\" class=\"dataframe\">\n",
       "  <thead>\n",
       "    <tr style=\"text-align: right;\">\n",
       "      <th></th>\n",
       "      <th>region</th>\n",
       "      <th>price</th>\n",
       "      <th>year</th>\n",
       "      <th>manufacturer</th>\n",
       "      <th>model</th>\n",
       "      <th>condition</th>\n",
       "      <th>cylinders</th>\n",
       "      <th>fuel</th>\n",
       "      <th>odometer</th>\n",
       "      <th>title_status</th>\n",
       "      <th>transmission</th>\n",
       "      <th>drive</th>\n",
       "      <th>size</th>\n",
       "      <th>type</th>\n",
       "      <th>paint_color</th>\n",
       "      <th>state</th>\n",
       "      <th>lat</th>\n",
       "      <th>long</th>\n",
       "      <th>posting_date</th>\n",
       "      <th>age_of_vehicle</th>\n",
       "    </tr>\n",
       "  </thead>\n",
       "  <tbody>\n",
       "    <tr>\n",
       "      <th>95119</th>\n",
       "      <td>ft myers / SW florida</td>\n",
       "      <td>990000</td>\n",
       "      <td>2017.0</td>\n",
       "      <td>mercedes-benz</td>\n",
       "      <td>amg g 63</td>\n",
       "      <td>NaN</td>\n",
       "      <td>8 cylinders</td>\n",
       "      <td>gas</td>\n",
       "      <td>4085.0</td>\n",
       "      <td>clean</td>\n",
       "      <td>automatic</td>\n",
       "      <td>4wd</td>\n",
       "      <td>NaN</td>\n",
       "      <td>SUV</td>\n",
       "      <td>white</td>\n",
       "      <td>fl</td>\n",
       "      <td>26.157900</td>\n",
       "      <td>-81.766548</td>\n",
       "      <td>2021-04-24T13:12:08-0400</td>\n",
       "      <td>5.0</td>\n",
       "    </tr>\n",
       "    <tr>\n",
       "      <th>79088</th>\n",
       "      <td>fort collins / north CO</td>\n",
       "      <td>655000</td>\n",
       "      <td>2010.0</td>\n",
       "      <td>chrysler</td>\n",
       "      <td>town &amp; country</td>\n",
       "      <td>good</td>\n",
       "      <td>6 cylinders</td>\n",
       "      <td>gas</td>\n",
       "      <td>106000.0</td>\n",
       "      <td>clean</td>\n",
       "      <td>automatic</td>\n",
       "      <td>NaN</td>\n",
       "      <td>NaN</td>\n",
       "      <td>other</td>\n",
       "      <td>NaN</td>\n",
       "      <td>co</td>\n",
       "      <td>40.478853</td>\n",
       "      <td>-105.173998</td>\n",
       "      <td>2021-04-27T13:17:32-0600</td>\n",
       "      <td>12.0</td>\n",
       "    </tr>\n",
       "    <tr>\n",
       "      <th>149860</th>\n",
       "      <td>bloomington</td>\n",
       "      <td>566567</td>\n",
       "      <td>2006.0</td>\n",
       "      <td>chrysler</td>\n",
       "      <td>300</td>\n",
       "      <td>NaN</td>\n",
       "      <td>other</td>\n",
       "      <td>gas</td>\n",
       "      <td>130000.0</td>\n",
       "      <td>clean</td>\n",
       "      <td>automatic</td>\n",
       "      <td>NaN</td>\n",
       "      <td>NaN</td>\n",
       "      <td>other</td>\n",
       "      <td>NaN</td>\n",
       "      <td>in</td>\n",
       "      <td>38.872900</td>\n",
       "      <td>-86.487100</td>\n",
       "      <td>2021-04-28T05:36:20-0400</td>\n",
       "      <td>16.0</td>\n",
       "    </tr>\n",
       "    <tr>\n",
       "      <th>106361</th>\n",
       "      <td>orlando</td>\n",
       "      <td>516999</td>\n",
       "      <td>2016.0</td>\n",
       "      <td>NaN</td>\n",
       "      <td>Lambo Aventador SV Roadster</td>\n",
       "      <td>like new</td>\n",
       "      <td>12 cylinders</td>\n",
       "      <td>gas</td>\n",
       "      <td>9982.0</td>\n",
       "      <td>clean</td>\n",
       "      <td>automatic</td>\n",
       "      <td>4wd</td>\n",
       "      <td>full-size</td>\n",
       "      <td>convertible</td>\n",
       "      <td>white</td>\n",
       "      <td>fl</td>\n",
       "      <td>28.463700</td>\n",
       "      <td>-81.394800</td>\n",
       "      <td>2021-04-26T17:40:47-0400</td>\n",
       "      <td>6.0</td>\n",
       "    </tr>\n",
       "    <tr>\n",
       "      <th>113357</th>\n",
       "      <td>south florida</td>\n",
       "      <td>470000</td>\n",
       "      <td>2016.0</td>\n",
       "      <td>NaN</td>\n",
       "      <td>hINO 268</td>\n",
       "      <td>good</td>\n",
       "      <td>other</td>\n",
       "      <td>diesel</td>\n",
       "      <td>167268.0</td>\n",
       "      <td>clean</td>\n",
       "      <td>automatic</td>\n",
       "      <td>NaN</td>\n",
       "      <td>NaN</td>\n",
       "      <td>other</td>\n",
       "      <td>white</td>\n",
       "      <td>fl</td>\n",
       "      <td>26.231500</td>\n",
       "      <td>-80.123500</td>\n",
       "      <td>2021-04-30T10:56:33-0400</td>\n",
       "      <td>6.0</td>\n",
       "    </tr>\n",
       "    <tr>\n",
       "      <th>360604</th>\n",
       "      <td>nashville</td>\n",
       "      <td>449500</td>\n",
       "      <td>2019.0</td>\n",
       "      <td>ferrari</td>\n",
       "      <td>488 gtb</td>\n",
       "      <td>NaN</td>\n",
       "      <td>other</td>\n",
       "      <td>gas</td>\n",
       "      <td>500.0</td>\n",
       "      <td>clean</td>\n",
       "      <td>other</td>\n",
       "      <td>NaN</td>\n",
       "      <td>NaN</td>\n",
       "      <td>coupe</td>\n",
       "      <td>red</td>\n",
       "      <td>tn</td>\n",
       "      <td>35.840175</td>\n",
       "      <td>-86.387603</td>\n",
       "      <td>2021-04-25T13:17:40-0500</td>\n",
       "      <td>3.0</td>\n",
       "    </tr>\n",
       "    <tr>\n",
       "      <th>328193</th>\n",
       "      <td>altoona-johnstown</td>\n",
       "      <td>400123</td>\n",
       "      <td>2003.0</td>\n",
       "      <td>NaN</td>\n",
       "      <td>any and all</td>\n",
       "      <td>fair</td>\n",
       "      <td>5 cylinders</td>\n",
       "      <td>diesel</td>\n",
       "      <td>123321.0</td>\n",
       "      <td>clean</td>\n",
       "      <td>automatic</td>\n",
       "      <td>4wd</td>\n",
       "      <td>full-size</td>\n",
       "      <td>pickup</td>\n",
       "      <td>blue</td>\n",
       "      <td>pa</td>\n",
       "      <td>40.480100</td>\n",
       "      <td>-78.726300</td>\n",
       "      <td>2021-04-07T19:49:49-0400</td>\n",
       "      <td>19.0</td>\n",
       "    </tr>\n",
       "    <tr>\n",
       "      <th>45428</th>\n",
       "      <td>palm springs</td>\n",
       "      <td>349999</td>\n",
       "      <td>2020.0</td>\n",
       "      <td>ferrari</td>\n",
       "      <td>f8 tributo</td>\n",
       "      <td>excellent</td>\n",
       "      <td>8 cylinders</td>\n",
       "      <td>gas</td>\n",
       "      <td>2800.0</td>\n",
       "      <td>clean</td>\n",
       "      <td>automatic</td>\n",
       "      <td>NaN</td>\n",
       "      <td>NaN</td>\n",
       "      <td>coupe</td>\n",
       "      <td>NaN</td>\n",
       "      <td>ca</td>\n",
       "      <td>33.743904</td>\n",
       "      <td>-116.359028</td>\n",
       "      <td>2021-04-13T18:20:46-0700</td>\n",
       "      <td>2.0</td>\n",
       "    </tr>\n",
       "  </tbody>\n",
       "</table>\n",
       "</div>"
      ],
      "text/plain": [
       "                         region   price    year   manufacturer  \\\n",
       "95119     ft myers / SW florida  990000  2017.0  mercedes-benz   \n",
       "79088   fort collins / north CO  655000  2010.0       chrysler   \n",
       "149860              bloomington  566567  2006.0       chrysler   \n",
       "106361                  orlando  516999  2016.0            NaN   \n",
       "113357            south florida  470000  2016.0            NaN   \n",
       "360604                nashville  449500  2019.0        ferrari   \n",
       "328193        altoona-johnstown  400123  2003.0            NaN   \n",
       "45428              palm springs  349999  2020.0        ferrari   \n",
       "\n",
       "                              model  condition     cylinders    fuel  \\\n",
       "95119                      amg g 63        NaN   8 cylinders     gas   \n",
       "79088                town & country       good   6 cylinders     gas   \n",
       "149860                          300        NaN         other     gas   \n",
       "106361  Lambo Aventador SV Roadster   like new  12 cylinders     gas   \n",
       "113357                     hINO 268       good         other  diesel   \n",
       "360604                      488 gtb        NaN         other     gas   \n",
       "328193                  any and all       fair   5 cylinders  diesel   \n",
       "45428                    f8 tributo  excellent   8 cylinders     gas   \n",
       "\n",
       "        odometer title_status transmission drive       size         type  \\\n",
       "95119     4085.0        clean    automatic   4wd        NaN          SUV   \n",
       "79088   106000.0        clean    automatic   NaN        NaN        other   \n",
       "149860  130000.0        clean    automatic   NaN        NaN        other   \n",
       "106361    9982.0        clean    automatic   4wd  full-size  convertible   \n",
       "113357  167268.0        clean    automatic   NaN        NaN        other   \n",
       "360604     500.0        clean        other   NaN        NaN        coupe   \n",
       "328193  123321.0        clean    automatic   4wd  full-size       pickup   \n",
       "45428     2800.0        clean    automatic   NaN        NaN        coupe   \n",
       "\n",
       "       paint_color state        lat        long              posting_date  \\\n",
       "95119        white    fl  26.157900  -81.766548  2021-04-24T13:12:08-0400   \n",
       "79088          NaN    co  40.478853 -105.173998  2021-04-27T13:17:32-0600   \n",
       "149860         NaN    in  38.872900  -86.487100  2021-04-28T05:36:20-0400   \n",
       "106361       white    fl  28.463700  -81.394800  2021-04-26T17:40:47-0400   \n",
       "113357       white    fl  26.231500  -80.123500  2021-04-30T10:56:33-0400   \n",
       "360604         red    tn  35.840175  -86.387603  2021-04-25T13:17:40-0500   \n",
       "328193        blue    pa  40.480100  -78.726300  2021-04-07T19:49:49-0400   \n",
       "45428          NaN    ca  33.743904 -116.359028  2021-04-13T18:20:46-0700   \n",
       "\n",
       "        age_of_vehicle  \n",
       "95119              5.0  \n",
       "79088             12.0  \n",
       "149860            16.0  \n",
       "106361             6.0  \n",
       "113357             6.0  \n",
       "360604             3.0  \n",
       "328193            19.0  \n",
       "45428              2.0  "
      ]
     },
     "execution_count": 80,
     "metadata": {},
     "output_type": "execute_result"
    }
   ],
   "source": [
    "clean_df.reset_index()\n",
    "clean_df.sort_values(by='price', ascending=False).head(8)"
   ]
  },
  {
   "cell_type": "markdown",
   "id": "3f449706",
   "metadata": {},
   "source": [
    "There are two ferarris that I think we should keep.  But the others have spotty fields -- including an 'any and all\tfair' instance of `model`.\n",
    "\n",
    "Let's keep the legitimate entries -- the ferraris, and remove the others"
   ]
  },
  {
   "cell_type": "code",
   "execution_count": 81,
   "id": "ac17a461",
   "metadata": {},
   "outputs": [],
   "source": [
    "to_drop = [\n",
    "    95119,\n",
    "    79088,\n",
    "    149860,\n",
    "    106361,\n",
    "    113357,\n",
    "    328193\n",
    "]"
   ]
  },
  {
   "cell_type": "code",
   "execution_count": 82,
   "id": "dc6c1c5c",
   "metadata": {},
   "outputs": [
    {
     "data": {
      "text/html": [
       "<div>\n",
       "<style scoped>\n",
       "    .dataframe tbody tr th:only-of-type {\n",
       "        vertical-align: middle;\n",
       "    }\n",
       "\n",
       "    .dataframe tbody tr th {\n",
       "        vertical-align: top;\n",
       "    }\n",
       "\n",
       "    .dataframe thead th {\n",
       "        text-align: right;\n",
       "    }\n",
       "</style>\n",
       "<table border=\"1\" class=\"dataframe\">\n",
       "  <thead>\n",
       "    <tr style=\"text-align: right;\">\n",
       "      <th></th>\n",
       "      <th>region</th>\n",
       "      <th>price</th>\n",
       "      <th>year</th>\n",
       "      <th>manufacturer</th>\n",
       "      <th>model</th>\n",
       "      <th>condition</th>\n",
       "      <th>cylinders</th>\n",
       "      <th>fuel</th>\n",
       "      <th>odometer</th>\n",
       "      <th>title_status</th>\n",
       "      <th>transmission</th>\n",
       "      <th>drive</th>\n",
       "      <th>size</th>\n",
       "      <th>type</th>\n",
       "      <th>paint_color</th>\n",
       "      <th>state</th>\n",
       "      <th>lat</th>\n",
       "      <th>long</th>\n",
       "      <th>posting_date</th>\n",
       "      <th>age_of_vehicle</th>\n",
       "    </tr>\n",
       "  </thead>\n",
       "  <tbody>\n",
       "    <tr>\n",
       "      <th>360604</th>\n",
       "      <td>nashville</td>\n",
       "      <td>449500</td>\n",
       "      <td>2019.0</td>\n",
       "      <td>ferrari</td>\n",
       "      <td>488 gtb</td>\n",
       "      <td>NaN</td>\n",
       "      <td>other</td>\n",
       "      <td>gas</td>\n",
       "      <td>500.0</td>\n",
       "      <td>clean</td>\n",
       "      <td>other</td>\n",
       "      <td>NaN</td>\n",
       "      <td>NaN</td>\n",
       "      <td>coupe</td>\n",
       "      <td>red</td>\n",
       "      <td>tn</td>\n",
       "      <td>35.840175</td>\n",
       "      <td>-86.387603</td>\n",
       "      <td>2021-04-25T13:17:40-0500</td>\n",
       "      <td>3.0</td>\n",
       "    </tr>\n",
       "    <tr>\n",
       "      <th>45428</th>\n",
       "      <td>palm springs</td>\n",
       "      <td>349999</td>\n",
       "      <td>2020.0</td>\n",
       "      <td>ferrari</td>\n",
       "      <td>f8 tributo</td>\n",
       "      <td>excellent</td>\n",
       "      <td>8 cylinders</td>\n",
       "      <td>gas</td>\n",
       "      <td>2800.0</td>\n",
       "      <td>clean</td>\n",
       "      <td>automatic</td>\n",
       "      <td>NaN</td>\n",
       "      <td>NaN</td>\n",
       "      <td>coupe</td>\n",
       "      <td>NaN</td>\n",
       "      <td>ca</td>\n",
       "      <td>33.743904</td>\n",
       "      <td>-116.359028</td>\n",
       "      <td>2021-04-13T18:20:46-0700</td>\n",
       "      <td>2.0</td>\n",
       "    </tr>\n",
       "    <tr>\n",
       "      <th>44387</th>\n",
       "      <td>palm springs</td>\n",
       "      <td>347999</td>\n",
       "      <td>2020.0</td>\n",
       "      <td>ferrari</td>\n",
       "      <td>f8 tributo</td>\n",
       "      <td>excellent</td>\n",
       "      <td>8 cylinders</td>\n",
       "      <td>gas</td>\n",
       "      <td>3000.0</td>\n",
       "      <td>clean</td>\n",
       "      <td>automatic</td>\n",
       "      <td>NaN</td>\n",
       "      <td>NaN</td>\n",
       "      <td>coupe</td>\n",
       "      <td>NaN</td>\n",
       "      <td>ca</td>\n",
       "      <td>33.743904</td>\n",
       "      <td>-116.359028</td>\n",
       "      <td>2021-04-29T08:34:08-0700</td>\n",
       "      <td>2.0</td>\n",
       "    </tr>\n",
       "    <tr>\n",
       "      <th>90274</th>\n",
       "      <td>washington, DC</td>\n",
       "      <td>304995</td>\n",
       "      <td>2021.0</td>\n",
       "      <td>porsche</td>\n",
       "      <td>911</td>\n",
       "      <td>NaN</td>\n",
       "      <td>other</td>\n",
       "      <td>gas</td>\n",
       "      <td>22.0</td>\n",
       "      <td>clean</td>\n",
       "      <td>automatic</td>\n",
       "      <td>NaN</td>\n",
       "      <td>NaN</td>\n",
       "      <td>convertible</td>\n",
       "      <td>white</td>\n",
       "      <td>dc</td>\n",
       "      <td>38.762669</td>\n",
       "      <td>-77.461754</td>\n",
       "      <td>2021-04-28T16:44:20-0400</td>\n",
       "      <td>1.0</td>\n",
       "    </tr>\n",
       "    <tr>\n",
       "      <th>399462</th>\n",
       "      <td>winchester</td>\n",
       "      <td>304995</td>\n",
       "      <td>2021.0</td>\n",
       "      <td>porsche</td>\n",
       "      <td>911</td>\n",
       "      <td>NaN</td>\n",
       "      <td>other</td>\n",
       "      <td>gas</td>\n",
       "      <td>22.0</td>\n",
       "      <td>clean</td>\n",
       "      <td>automatic</td>\n",
       "      <td>NaN</td>\n",
       "      <td>NaN</td>\n",
       "      <td>convertible</td>\n",
       "      <td>white</td>\n",
       "      <td>va</td>\n",
       "      <td>38.762669</td>\n",
       "      <td>-77.461754</td>\n",
       "      <td>2021-04-28T15:49:25-0400</td>\n",
       "      <td>1.0</td>\n",
       "    </tr>\n",
       "    <tr>\n",
       "      <th>88588</th>\n",
       "      <td>washington, DC</td>\n",
       "      <td>304995</td>\n",
       "      <td>2021.0</td>\n",
       "      <td>porsche</td>\n",
       "      <td>911</td>\n",
       "      <td>NaN</td>\n",
       "      <td>other</td>\n",
       "      <td>gas</td>\n",
       "      <td>22.0</td>\n",
       "      <td>clean</td>\n",
       "      <td>automatic</td>\n",
       "      <td>NaN</td>\n",
       "      <td>NaN</td>\n",
       "      <td>convertible</td>\n",
       "      <td>white</td>\n",
       "      <td>dc</td>\n",
       "      <td>38.762669</td>\n",
       "      <td>-77.461754</td>\n",
       "      <td>2021-05-03T09:35:13-0400</td>\n",
       "      <td>1.0</td>\n",
       "    </tr>\n",
       "    <tr>\n",
       "      <th>304898</th>\n",
       "      <td>oklahoma city</td>\n",
       "      <td>299991</td>\n",
       "      <td>2017.0</td>\n",
       "      <td>NaN</td>\n",
       "      <td>Lamborghini Huracan</td>\n",
       "      <td>NaN</td>\n",
       "      <td>10 cylinders</td>\n",
       "      <td>gas</td>\n",
       "      <td>13004.0</td>\n",
       "      <td>clean</td>\n",
       "      <td>automatic</td>\n",
       "      <td>rwd</td>\n",
       "      <td>NaN</td>\n",
       "      <td>coupe</td>\n",
       "      <td>blue</td>\n",
       "      <td>ok</td>\n",
       "      <td>32.964447</td>\n",
       "      <td>-96.918586</td>\n",
       "      <td>2021-04-30T16:58:19-0500</td>\n",
       "      <td>5.0</td>\n",
       "    </tr>\n",
       "    <tr>\n",
       "      <th>176115</th>\n",
       "      <td>new orleans</td>\n",
       "      <td>299991</td>\n",
       "      <td>2017.0</td>\n",
       "      <td>NaN</td>\n",
       "      <td>Lamborghini Huracan</td>\n",
       "      <td>NaN</td>\n",
       "      <td>10 cylinders</td>\n",
       "      <td>gas</td>\n",
       "      <td>13004.0</td>\n",
       "      <td>clean</td>\n",
       "      <td>automatic</td>\n",
       "      <td>rwd</td>\n",
       "      <td>NaN</td>\n",
       "      <td>coupe</td>\n",
       "      <td>blue</td>\n",
       "      <td>la</td>\n",
       "      <td>32.964447</td>\n",
       "      <td>-96.918586</td>\n",
       "      <td>2021-04-30T16:58:23-0500</td>\n",
       "      <td>5.0</td>\n",
       "    </tr>\n",
       "  </tbody>\n",
       "</table>\n",
       "</div>"
      ],
      "text/plain": [
       "                region   price    year manufacturer                model  \\\n",
       "360604       nashville  449500  2019.0      ferrari              488 gtb   \n",
       "45428     palm springs  349999  2020.0      ferrari           f8 tributo   \n",
       "44387     palm springs  347999  2020.0      ferrari           f8 tributo   \n",
       "90274   washington, DC  304995  2021.0      porsche                  911   \n",
       "399462      winchester  304995  2021.0      porsche                  911   \n",
       "88588   washington, DC  304995  2021.0      porsche                  911   \n",
       "304898   oklahoma city  299991  2017.0          NaN  Lamborghini Huracan   \n",
       "176115     new orleans  299991  2017.0          NaN  Lamborghini Huracan   \n",
       "\n",
       "        condition     cylinders fuel  odometer title_status transmission  \\\n",
       "360604        NaN         other  gas     500.0        clean        other   \n",
       "45428   excellent   8 cylinders  gas    2800.0        clean    automatic   \n",
       "44387   excellent   8 cylinders  gas    3000.0        clean    automatic   \n",
       "90274         NaN         other  gas      22.0        clean    automatic   \n",
       "399462        NaN         other  gas      22.0        clean    automatic   \n",
       "88588         NaN         other  gas      22.0        clean    automatic   \n",
       "304898        NaN  10 cylinders  gas   13004.0        clean    automatic   \n",
       "176115        NaN  10 cylinders  gas   13004.0        clean    automatic   \n",
       "\n",
       "       drive size         type paint_color state        lat        long  \\\n",
       "360604   NaN  NaN        coupe         red    tn  35.840175  -86.387603   \n",
       "45428    NaN  NaN        coupe         NaN    ca  33.743904 -116.359028   \n",
       "44387    NaN  NaN        coupe         NaN    ca  33.743904 -116.359028   \n",
       "90274    NaN  NaN  convertible       white    dc  38.762669  -77.461754   \n",
       "399462   NaN  NaN  convertible       white    va  38.762669  -77.461754   \n",
       "88588    NaN  NaN  convertible       white    dc  38.762669  -77.461754   \n",
       "304898   rwd  NaN        coupe        blue    ok  32.964447  -96.918586   \n",
       "176115   rwd  NaN        coupe        blue    la  32.964447  -96.918586   \n",
       "\n",
       "                    posting_date  age_of_vehicle  \n",
       "360604  2021-04-25T13:17:40-0500             3.0  \n",
       "45428   2021-04-13T18:20:46-0700             2.0  \n",
       "44387   2021-04-29T08:34:08-0700             2.0  \n",
       "90274   2021-04-28T16:44:20-0400             1.0  \n",
       "399462  2021-04-28T15:49:25-0400             1.0  \n",
       "88588   2021-05-03T09:35:13-0400             1.0  \n",
       "304898  2021-04-30T16:58:19-0500             5.0  \n",
       "176115  2021-04-30T16:58:23-0500             5.0  "
      ]
     },
     "execution_count": 82,
     "metadata": {},
     "output_type": "execute_result"
    }
   ],
   "source": [
    "clean_df.drop(index=to_drop, inplace=True)\n",
    "clean_df.sort_values(by='price', ascending=False).head(8)"
   ]
  },
  {
   "cell_type": "code",
   "execution_count": 83,
   "id": "83cf92a6",
   "metadata": {},
   "outputs": [
    {
     "data": {
      "image/png": "[encoded data removed]",
      "text/plain": [
       "<Figure size 640x480 with 1 Axes>"
      ]
     },
     "metadata": {},
     "output_type": "display_data"
    }
   ],
   "source": [
    "x_vers, y_vers = ecdf(clean_df['price'])\n",
    "plt.plot(x_vers, y_vers, marker = '.', linestyle = 'none')\n",
    "plt.xlabel('')\n",
    "plt.ylabel('ECDF')\n",
    "plt.show()"
   ]
  },
  {
   "cell_type": "markdown",
   "id": "05fe19c4",
   "metadata": {},
   "source": [
    "This is looking a little bit better!  The top eight are luxury vehicles, so this is looking more realistic"
   ]
  },
  {
   "cell_type": "code",
   "execution_count": 84,
   "id": "d7ddce27",
   "metadata": {},
   "outputs": [
    {
     "data": {
      "text/html": [
       "<div>\n",
       "<style scoped>\n",
       "    .dataframe tbody tr th:only-of-type {\n",
       "        vertical-align: middle;\n",
       "    }\n",
       "\n",
       "    .dataframe tbody tr th {\n",
       "        vertical-align: top;\n",
       "    }\n",
       "\n",
       "    .dataframe thead th {\n",
       "        text-align: right;\n",
       "    }\n",
       "</style>\n",
       "<table border=\"1\" class=\"dataframe\">\n",
       "  <thead>\n",
       "    <tr style=\"text-align: right;\">\n",
       "      <th></th>\n",
       "      <th>region</th>\n",
       "      <th>price</th>\n",
       "      <th>year</th>\n",
       "      <th>manufacturer</th>\n",
       "      <th>model</th>\n",
       "      <th>condition</th>\n",
       "      <th>cylinders</th>\n",
       "      <th>fuel</th>\n",
       "      <th>odometer</th>\n",
       "      <th>title_status</th>\n",
       "      <th>transmission</th>\n",
       "      <th>drive</th>\n",
       "      <th>size</th>\n",
       "      <th>type</th>\n",
       "      <th>paint_color</th>\n",
       "      <th>state</th>\n",
       "      <th>lat</th>\n",
       "      <th>long</th>\n",
       "      <th>posting_date</th>\n",
       "      <th>age_of_vehicle</th>\n",
       "    </tr>\n",
       "  </thead>\n",
       "  <tbody>\n",
       "    <tr>\n",
       "      <th>9080</th>\n",
       "      <td>flagstaff / sedona</td>\n",
       "      <td>229500</td>\n",
       "      <td>2019.0</td>\n",
       "      <td>NaN</td>\n",
       "      <td>Lamborghini Urus</td>\n",
       "      <td>NaN</td>\n",
       "      <td>8 cylinders</td>\n",
       "      <td>gas</td>\n",
       "      <td>32922.0</td>\n",
       "      <td>clean</td>\n",
       "      <td>automatic</td>\n",
       "      <td>4wd</td>\n",
       "      <td>compact</td>\n",
       "      <td>SUV</td>\n",
       "      <td>white</td>\n",
       "      <td>az</td>\n",
       "      <td>25.827103</td>\n",
       "      <td>-80.241520</td>\n",
       "      <td>2021-04-13T14:09:46-0700</td>\n",
       "      <td>3.0</td>\n",
       "    </tr>\n",
       "    <tr>\n",
       "      <th>11339</th>\n",
       "      <td>phoenix</td>\n",
       "      <td>109945</td>\n",
       "      <td>2004.0</td>\n",
       "      <td>NaN</td>\n",
       "      <td>Lamborghini Gallardo 6-Speed</td>\n",
       "      <td>excellent</td>\n",
       "      <td>10 cylinders</td>\n",
       "      <td>gas</td>\n",
       "      <td>57115.0</td>\n",
       "      <td>clean</td>\n",
       "      <td>manual</td>\n",
       "      <td>4wd</td>\n",
       "      <td>NaN</td>\n",
       "      <td>coupe</td>\n",
       "      <td>NaN</td>\n",
       "      <td>az</td>\n",
       "      <td>33.454195</td>\n",
       "      <td>-111.926096</td>\n",
       "      <td>2021-05-03T10:16:43-0700</td>\n",
       "      <td>18.0</td>\n",
       "    </tr>\n",
       "    <tr>\n",
       "      <th>42490</th>\n",
       "      <td>orange county</td>\n",
       "      <td>105000</td>\n",
       "      <td>2004.0</td>\n",
       "      <td>NaN</td>\n",
       "      <td>2004 Lamborghini Gallardo</td>\n",
       "      <td>excellent</td>\n",
       "      <td>10 cylinders</td>\n",
       "      <td>gas</td>\n",
       "      <td>18375.0</td>\n",
       "      <td>clean</td>\n",
       "      <td>manual</td>\n",
       "      <td>4wd</td>\n",
       "      <td>compact</td>\n",
       "      <td>coupe</td>\n",
       "      <td>white</td>\n",
       "      <td>ca</td>\n",
       "      <td>33.811000</td>\n",
       "      <td>-117.849300</td>\n",
       "      <td>2021-04-30T15:04:19-0700</td>\n",
       "      <td>18.0</td>\n",
       "    </tr>\n",
       "    <tr>\n",
       "      <th>60995</th>\n",
       "      <td>SF bay area</td>\n",
       "      <td>159991</td>\n",
       "      <td>2013.0</td>\n",
       "      <td>NaN</td>\n",
       "      <td>Lamborghini Gallardo</td>\n",
       "      <td>excellent</td>\n",
       "      <td>10 cylinders</td>\n",
       "      <td>gas</td>\n",
       "      <td>12329.0</td>\n",
       "      <td>clean</td>\n",
       "      <td>automatic</td>\n",
       "      <td>4wd</td>\n",
       "      <td>sub-compact</td>\n",
       "      <td>convertible</td>\n",
       "      <td>white</td>\n",
       "      <td>ca</td>\n",
       "      <td>37.410820</td>\n",
       "      <td>-122.123860</td>\n",
       "      <td>2021-05-04T09:22:22-0700</td>\n",
       "      <td>9.0</td>\n",
       "    </tr>\n",
       "    <tr>\n",
       "      <th>92186</th>\n",
       "      <td>daytona beach</td>\n",
       "      <td>197999</td>\n",
       "      <td>2015.0</td>\n",
       "      <td>NaN</td>\n",
       "      <td>Lamborghini Huracan</td>\n",
       "      <td>excellent</td>\n",
       "      <td>10 cylinders</td>\n",
       "      <td>gas</td>\n",
       "      <td>33875.0</td>\n",
       "      <td>clean</td>\n",
       "      <td>other</td>\n",
       "      <td>NaN</td>\n",
       "      <td>mid-size</td>\n",
       "      <td>coupe</td>\n",
       "      <td>green</td>\n",
       "      <td>fl</td>\n",
       "      <td>28.466088</td>\n",
       "      <td>-81.396429</td>\n",
       "      <td>2021-05-01T11:48:44-0400</td>\n",
       "      <td>7.0</td>\n",
       "    </tr>\n",
       "    <tr>\n",
       "      <th>92796</th>\n",
       "      <td>daytona beach</td>\n",
       "      <td>209999</td>\n",
       "      <td>2015.0</td>\n",
       "      <td>NaN</td>\n",
       "      <td>Lamborghini Huracan</td>\n",
       "      <td>excellent</td>\n",
       "      <td>10 cylinders</td>\n",
       "      <td>gas</td>\n",
       "      <td>11828.0</td>\n",
       "      <td>clean</td>\n",
       "      <td>other</td>\n",
       "      <td>NaN</td>\n",
       "      <td>mid-size</td>\n",
       "      <td>coupe</td>\n",
       "      <td>green</td>\n",
       "      <td>fl</td>\n",
       "      <td>28.466088</td>\n",
       "      <td>-81.396429</td>\n",
       "      <td>2021-04-21T15:30:32-0400</td>\n",
       "      <td>7.0</td>\n",
       "    </tr>\n",
       "    <tr>\n",
       "      <th>93705</th>\n",
       "      <td>florida keys</td>\n",
       "      <td>220000</td>\n",
       "      <td>2016.0</td>\n",
       "      <td>NaN</td>\n",
       "      <td>Lamborghini Huracan</td>\n",
       "      <td>like new</td>\n",
       "      <td>other</td>\n",
       "      <td>gas</td>\n",
       "      <td>13000.0</td>\n",
       "      <td>clean</td>\n",
       "      <td>automatic</td>\n",
       "      <td>rwd</td>\n",
       "      <td>full-size</td>\n",
       "      <td>convertible</td>\n",
       "      <td>white</td>\n",
       "      <td>fl</td>\n",
       "      <td>25.779100</td>\n",
       "      <td>-80.197800</td>\n",
       "      <td>2021-04-21T10:16:10-0400</td>\n",
       "      <td>6.0</td>\n",
       "    </tr>\n",
       "    <tr>\n",
       "      <th>99737</th>\n",
       "      <td>jacksonville</td>\n",
       "      <td>209999</td>\n",
       "      <td>2015.0</td>\n",
       "      <td>NaN</td>\n",
       "      <td>Lamborghini Huracan</td>\n",
       "      <td>excellent</td>\n",
       "      <td>10 cylinders</td>\n",
       "      <td>gas</td>\n",
       "      <td>11828.0</td>\n",
       "      <td>clean</td>\n",
       "      <td>other</td>\n",
       "      <td>NaN</td>\n",
       "      <td>mid-size</td>\n",
       "      <td>coupe</td>\n",
       "      <td>green</td>\n",
       "      <td>fl</td>\n",
       "      <td>28.466088</td>\n",
       "      <td>-81.396429</td>\n",
       "      <td>2021-04-21T15:32:33-0400</td>\n",
       "      <td>7.0</td>\n",
       "    </tr>\n",
       "    <tr>\n",
       "      <th>101289</th>\n",
       "      <td>lakeland</td>\n",
       "      <td>209999</td>\n",
       "      <td>2015.0</td>\n",
       "      <td>NaN</td>\n",
       "      <td>Lamborghini Huracan</td>\n",
       "      <td>excellent</td>\n",
       "      <td>10 cylinders</td>\n",
       "      <td>gas</td>\n",
       "      <td>11828.0</td>\n",
       "      <td>clean</td>\n",
       "      <td>other</td>\n",
       "      <td>NaN</td>\n",
       "      <td>mid-size</td>\n",
       "      <td>coupe</td>\n",
       "      <td>green</td>\n",
       "      <td>fl</td>\n",
       "      <td>28.466088</td>\n",
       "      <td>-81.396429</td>\n",
       "      <td>2021-04-21T15:34:32-0400</td>\n",
       "      <td>7.0</td>\n",
       "    </tr>\n",
       "    <tr>\n",
       "      <th>102617</th>\n",
       "      <td>ocala</td>\n",
       "      <td>197999</td>\n",
       "      <td>2015.0</td>\n",
       "      <td>NaN</td>\n",
       "      <td>Lamborghini Huracan</td>\n",
       "      <td>excellent</td>\n",
       "      <td>10 cylinders</td>\n",
       "      <td>gas</td>\n",
       "      <td>33875.0</td>\n",
       "      <td>clean</td>\n",
       "      <td>other</td>\n",
       "      <td>NaN</td>\n",
       "      <td>mid-size</td>\n",
       "      <td>coupe</td>\n",
       "      <td>green</td>\n",
       "      <td>fl</td>\n",
       "      <td>28.466088</td>\n",
       "      <td>-81.396429</td>\n",
       "      <td>2021-04-26T15:54:38-0400</td>\n",
       "      <td>7.0</td>\n",
       "    </tr>\n",
       "    <tr>\n",
       "      <th>104872</th>\n",
       "      <td>orlando</td>\n",
       "      <td>109900</td>\n",
       "      <td>2006.0</td>\n",
       "      <td>NaN</td>\n",
       "      <td>Lamborghini Gallardo</td>\n",
       "      <td>excellent</td>\n",
       "      <td>10 cylinders</td>\n",
       "      <td>gas</td>\n",
       "      <td>30000.0</td>\n",
       "      <td>clean</td>\n",
       "      <td>automatic</td>\n",
       "      <td>4wd</td>\n",
       "      <td>NaN</td>\n",
       "      <td>coupe</td>\n",
       "      <td>black</td>\n",
       "      <td>fl</td>\n",
       "      <td>28.539900</td>\n",
       "      <td>-81.372700</td>\n",
       "      <td>2021-05-01T14:05:37-0400</td>\n",
       "      <td>16.0</td>\n",
       "    </tr>\n",
       "    <tr>\n",
       "      <th>104937</th>\n",
       "      <td>orlando</td>\n",
       "      <td>197999</td>\n",
       "      <td>2015.0</td>\n",
       "      <td>NaN</td>\n",
       "      <td>Lamborghini Huracan</td>\n",
       "      <td>excellent</td>\n",
       "      <td>10 cylinders</td>\n",
       "      <td>gas</td>\n",
       "      <td>33875.0</td>\n",
       "      <td>clean</td>\n",
       "      <td>other</td>\n",
       "      <td>NaN</td>\n",
       "      <td>mid-size</td>\n",
       "      <td>coupe</td>\n",
       "      <td>green</td>\n",
       "      <td>fl</td>\n",
       "      <td>28.466088</td>\n",
       "      <td>-81.396429</td>\n",
       "      <td>2021-05-01T11:48:06-0400</td>\n",
       "      <td>7.0</td>\n",
       "    </tr>\n",
       "    <tr>\n",
       "      <th>106389</th>\n",
       "      <td>orlando</td>\n",
       "      <td>197999</td>\n",
       "      <td>2015.0</td>\n",
       "      <td>NaN</td>\n",
       "      <td>Lamborghini Huracan</td>\n",
       "      <td>excellent</td>\n",
       "      <td>10 cylinders</td>\n",
       "      <td>gas</td>\n",
       "      <td>33875.0</td>\n",
       "      <td>clean</td>\n",
       "      <td>other</td>\n",
       "      <td>NaN</td>\n",
       "      <td>mid-size</td>\n",
       "      <td>coupe</td>\n",
       "      <td>green</td>\n",
       "      <td>fl</td>\n",
       "      <td>28.466088</td>\n",
       "      <td>-81.396429</td>\n",
       "      <td>2021-04-26T15:54:41-0400</td>\n",
       "      <td>7.0</td>\n",
       "    </tr>\n",
       "    <tr>\n",
       "      <th>111963</th>\n",
       "      <td>south florida</td>\n",
       "      <td>285000</td>\n",
       "      <td>2021.0</td>\n",
       "      <td>NaN</td>\n",
       "      <td>Lamborghini huracan evo</td>\n",
       "      <td>excellent</td>\n",
       "      <td>10 cylinders</td>\n",
       "      <td>gas</td>\n",
       "      <td>950.0</td>\n",
       "      <td>clean</td>\n",
       "      <td>automatic</td>\n",
       "      <td>rwd</td>\n",
       "      <td>NaN</td>\n",
       "      <td>coupe</td>\n",
       "      <td>green</td>\n",
       "      <td>fl</td>\n",
       "      <td>26.716200</td>\n",
       "      <td>-80.096500</td>\n",
       "      <td>2021-05-03T11:00:55-0400</td>\n",
       "      <td>1.0</td>\n",
       "    </tr>\n",
       "    <tr>\n",
       "      <th>113598</th>\n",
       "      <td>south florida</td>\n",
       "      <td>119500</td>\n",
       "      <td>2015.0</td>\n",
       "      <td>NaN</td>\n",
       "      <td>Lamborghini Huracan</td>\n",
       "      <td>NaN</td>\n",
       "      <td>10 cylinders</td>\n",
       "      <td>gas</td>\n",
       "      <td>1.0</td>\n",
       "      <td>clean</td>\n",
       "      <td>automatic</td>\n",
       "      <td>4wd</td>\n",
       "      <td>sub-compact</td>\n",
       "      <td>coupe</td>\n",
       "      <td>custom</td>\n",
       "      <td>fl</td>\n",
       "      <td>25.827103</td>\n",
       "      <td>-80.241520</td>\n",
       "      <td>2021-04-29T19:19:41-0400</td>\n",
       "      <td>7.0</td>\n",
       "    </tr>\n",
       "    <tr>\n",
       "      <th>115372</th>\n",
       "      <td>st augustine</td>\n",
       "      <td>197999</td>\n",
       "      <td>2015.0</td>\n",
       "      <td>NaN</td>\n",
       "      <td>Lamborghini Huracan</td>\n",
       "      <td>excellent</td>\n",
       "      <td>10 cylinders</td>\n",
       "      <td>gas</td>\n",
       "      <td>33875.0</td>\n",
       "      <td>clean</td>\n",
       "      <td>other</td>\n",
       "      <td>NaN</td>\n",
       "      <td>mid-size</td>\n",
       "      <td>coupe</td>\n",
       "      <td>green</td>\n",
       "      <td>fl</td>\n",
       "      <td>28.466088</td>\n",
       "      <td>-81.396429</td>\n",
       "      <td>2021-04-26T15:56:30-0400</td>\n",
       "      <td>7.0</td>\n",
       "    </tr>\n",
       "    <tr>\n",
       "      <th>119264</th>\n",
       "      <td>tampa bay area</td>\n",
       "      <td>197999</td>\n",
       "      <td>2015.0</td>\n",
       "      <td>NaN</td>\n",
       "      <td>Lamborghini Huracan</td>\n",
       "      <td>excellent</td>\n",
       "      <td>10 cylinders</td>\n",
       "      <td>gas</td>\n",
       "      <td>33875.0</td>\n",
       "      <td>clean</td>\n",
       "      <td>other</td>\n",
       "      <td>NaN</td>\n",
       "      <td>mid-size</td>\n",
       "      <td>coupe</td>\n",
       "      <td>green</td>\n",
       "      <td>fl</td>\n",
       "      <td>28.466088</td>\n",
       "      <td>-81.396429</td>\n",
       "      <td>2021-04-26T15:57:30-0400</td>\n",
       "      <td>7.0</td>\n",
       "    </tr>\n",
       "    <tr>\n",
       "      <th>142323</th>\n",
       "      <td>chicago</td>\n",
       "      <td>119500</td>\n",
       "      <td>2015.0</td>\n",
       "      <td>NaN</td>\n",
       "      <td>Lamborghini Huracan</td>\n",
       "      <td>NaN</td>\n",
       "      <td>10 cylinders</td>\n",
       "      <td>gas</td>\n",
       "      <td>1.0</td>\n",
       "      <td>clean</td>\n",
       "      <td>automatic</td>\n",
       "      <td>4wd</td>\n",
       "      <td>sub-compact</td>\n",
       "      <td>coupe</td>\n",
       "      <td>custom</td>\n",
       "      <td>il</td>\n",
       "      <td>25.827103</td>\n",
       "      <td>-80.241520</td>\n",
       "      <td>2021-04-29T19:06:30-0500</td>\n",
       "      <td>7.0</td>\n",
       "    </tr>\n",
       "    <tr>\n",
       "      <th>176115</th>\n",
       "      <td>new orleans</td>\n",
       "      <td>299991</td>\n",
       "      <td>2017.0</td>\n",
       "      <td>NaN</td>\n",
       "      <td>Lamborghini Huracan</td>\n",
       "      <td>NaN</td>\n",
       "      <td>10 cylinders</td>\n",
       "      <td>gas</td>\n",
       "      <td>13004.0</td>\n",
       "      <td>clean</td>\n",
       "      <td>automatic</td>\n",
       "      <td>rwd</td>\n",
       "      <td>NaN</td>\n",
       "      <td>coupe</td>\n",
       "      <td>blue</td>\n",
       "      <td>la</td>\n",
       "      <td>32.964447</td>\n",
       "      <td>-96.918586</td>\n",
       "      <td>2021-04-30T16:58:23-0500</td>\n",
       "      <td>5.0</td>\n",
       "    </tr>\n",
       "    <tr>\n",
       "      <th>195409</th>\n",
       "      <td>central michigan</td>\n",
       "      <td>119500</td>\n",
       "      <td>2015.0</td>\n",
       "      <td>NaN</td>\n",
       "      <td>Lamborghini Huracan</td>\n",
       "      <td>NaN</td>\n",
       "      <td>10 cylinders</td>\n",
       "      <td>gas</td>\n",
       "      <td>1.0</td>\n",
       "      <td>clean</td>\n",
       "      <td>automatic</td>\n",
       "      <td>4wd</td>\n",
       "      <td>sub-compact</td>\n",
       "      <td>coupe</td>\n",
       "      <td>custom</td>\n",
       "      <td>mi</td>\n",
       "      <td>25.827103</td>\n",
       "      <td>-80.241520</td>\n",
       "      <td>2021-04-29T19:52:11-0400</td>\n",
       "      <td>7.0</td>\n",
       "    </tr>\n",
       "    <tr>\n",
       "      <th>304898</th>\n",
       "      <td>oklahoma city</td>\n",
       "      <td>299991</td>\n",
       "      <td>2017.0</td>\n",
       "      <td>NaN</td>\n",
       "      <td>Lamborghini Huracan</td>\n",
       "      <td>NaN</td>\n",
       "      <td>10 cylinders</td>\n",
       "      <td>gas</td>\n",
       "      <td>13004.0</td>\n",
       "      <td>clean</td>\n",
       "      <td>automatic</td>\n",
       "      <td>rwd</td>\n",
       "      <td>NaN</td>\n",
       "      <td>coupe</td>\n",
       "      <td>blue</td>\n",
       "      <td>ok</td>\n",
       "      <td>32.964447</td>\n",
       "      <td>-96.918586</td>\n",
       "      <td>2021-04-30T16:58:19-0500</td>\n",
       "      <td>5.0</td>\n",
       "    </tr>\n",
       "    <tr>\n",
       "      <th>364690</th>\n",
       "      <td>austin</td>\n",
       "      <td>119500</td>\n",
       "      <td>2015.0</td>\n",
       "      <td>NaN</td>\n",
       "      <td>Lamborghini Huracan</td>\n",
       "      <td>NaN</td>\n",
       "      <td>10 cylinders</td>\n",
       "      <td>gas</td>\n",
       "      <td>1.0</td>\n",
       "      <td>clean</td>\n",
       "      <td>automatic</td>\n",
       "      <td>4wd</td>\n",
       "      <td>sub-compact</td>\n",
       "      <td>coupe</td>\n",
       "      <td>custom</td>\n",
       "      <td>tx</td>\n",
       "      <td>25.827103</td>\n",
       "      <td>-80.241520</td>\n",
       "      <td>2021-04-29T18:33:52-0500</td>\n",
       "      <td>7.0</td>\n",
       "    </tr>\n",
       "    <tr>\n",
       "      <th>371065</th>\n",
       "      <td>dallas / fort worth</td>\n",
       "      <td>299991</td>\n",
       "      <td>2017.0</td>\n",
       "      <td>NaN</td>\n",
       "      <td>Lamborghini Huracan</td>\n",
       "      <td>NaN</td>\n",
       "      <td>10 cylinders</td>\n",
       "      <td>gas</td>\n",
       "      <td>13004.0</td>\n",
       "      <td>clean</td>\n",
       "      <td>automatic</td>\n",
       "      <td>rwd</td>\n",
       "      <td>NaN</td>\n",
       "      <td>coupe</td>\n",
       "      <td>blue</td>\n",
       "      <td>tx</td>\n",
       "      <td>32.964447</td>\n",
       "      <td>-96.918586</td>\n",
       "      <td>2021-04-30T17:22:09-0500</td>\n",
       "      <td>5.0</td>\n",
       "    </tr>\n",
       "    <tr>\n",
       "      <th>376017</th>\n",
       "      <td>houston</td>\n",
       "      <td>299991</td>\n",
       "      <td>2017.0</td>\n",
       "      <td>NaN</td>\n",
       "      <td>Lamborghini Huracan</td>\n",
       "      <td>NaN</td>\n",
       "      <td>10 cylinders</td>\n",
       "      <td>gas</td>\n",
       "      <td>13004.0</td>\n",
       "      <td>clean</td>\n",
       "      <td>automatic</td>\n",
       "      <td>rwd</td>\n",
       "      <td>NaN</td>\n",
       "      <td>coupe</td>\n",
       "      <td>blue</td>\n",
       "      <td>tx</td>\n",
       "      <td>32.964447</td>\n",
       "      <td>-96.918586</td>\n",
       "      <td>2021-04-30T16:59:07-0500</td>\n",
       "      <td>5.0</td>\n",
       "    </tr>\n",
       "    <tr>\n",
       "      <th>415796</th>\n",
       "      <td>appleton-oshkosh-FDL</td>\n",
       "      <td>229500</td>\n",
       "      <td>2019.0</td>\n",
       "      <td>NaN</td>\n",
       "      <td>Lamborghini Urus</td>\n",
       "      <td>NaN</td>\n",
       "      <td>8 cylinders</td>\n",
       "      <td>gas</td>\n",
       "      <td>32922.0</td>\n",
       "      <td>clean</td>\n",
       "      <td>automatic</td>\n",
       "      <td>4wd</td>\n",
       "      <td>compact</td>\n",
       "      <td>SUV</td>\n",
       "      <td>white</td>\n",
       "      <td>wi</td>\n",
       "      <td>25.827103</td>\n",
       "      <td>-80.241520</td>\n",
       "      <td>2021-04-13T20:43:00-0500</td>\n",
       "      <td>3.0</td>\n",
       "    </tr>\n",
       "  </tbody>\n",
       "</table>\n",
       "</div>"
      ],
      "text/plain": [
       "                      region   price    year manufacturer  \\\n",
       "9080      flagstaff / sedona  229500  2019.0          NaN   \n",
       "11339                phoenix  109945  2004.0          NaN   \n",
       "42490          orange county  105000  2004.0          NaN   \n",
       "60995            SF bay area  159991  2013.0          NaN   \n",
       "92186          daytona beach  197999  2015.0          NaN   \n",
       "92796          daytona beach  209999  2015.0          NaN   \n",
       "93705           florida keys  220000  2016.0          NaN   \n",
       "99737           jacksonville  209999  2015.0          NaN   \n",
       "101289              lakeland  209999  2015.0          NaN   \n",
       "102617                 ocala  197999  2015.0          NaN   \n",
       "104872               orlando  109900  2006.0          NaN   \n",
       "104937               orlando  197999  2015.0          NaN   \n",
       "106389               orlando  197999  2015.0          NaN   \n",
       "111963         south florida  285000  2021.0          NaN   \n",
       "113598         south florida  119500  2015.0          NaN   \n",
       "115372          st augustine  197999  2015.0          NaN   \n",
       "119264        tampa bay area  197999  2015.0          NaN   \n",
       "142323               chicago  119500  2015.0          NaN   \n",
       "176115           new orleans  299991  2017.0          NaN   \n",
       "195409      central michigan  119500  2015.0          NaN   \n",
       "304898         oklahoma city  299991  2017.0          NaN   \n",
       "364690                austin  119500  2015.0          NaN   \n",
       "371065   dallas / fort worth  299991  2017.0          NaN   \n",
       "376017               houston  299991  2017.0          NaN   \n",
       "415796  appleton-oshkosh-FDL  229500  2019.0          NaN   \n",
       "\n",
       "                               model  condition     cylinders fuel  odometer  \\\n",
       "9080                Lamborghini Urus        NaN   8 cylinders  gas   32922.0   \n",
       "11339   Lamborghini Gallardo 6-Speed  excellent  10 cylinders  gas   57115.0   \n",
       "42490      2004 Lamborghini Gallardo  excellent  10 cylinders  gas   18375.0   \n",
       "60995           Lamborghini Gallardo  excellent  10 cylinders  gas   12329.0   \n",
       "92186            Lamborghini Huracan  excellent  10 cylinders  gas   33875.0   \n",
       "92796            Lamborghini Huracan  excellent  10 cylinders  gas   11828.0   \n",
       "93705            Lamborghini Huracan   like new         other  gas   13000.0   \n",
       "99737            Lamborghini Huracan  excellent  10 cylinders  gas   11828.0   \n",
       "101289           Lamborghini Huracan  excellent  10 cylinders  gas   11828.0   \n",
       "102617           Lamborghini Huracan  excellent  10 cylinders  gas   33875.0   \n",
       "104872          Lamborghini Gallardo  excellent  10 cylinders  gas   30000.0   \n",
       "104937           Lamborghini Huracan  excellent  10 cylinders  gas   33875.0   \n",
       "106389           Lamborghini Huracan  excellent  10 cylinders  gas   33875.0   \n",
       "111963       Lamborghini huracan evo  excellent  10 cylinders  gas     950.0   \n",
       "113598           Lamborghini Huracan        NaN  10 cylinders  gas       1.0   \n",
       "115372           Lamborghini Huracan  excellent  10 cylinders  gas   33875.0   \n",
       "119264           Lamborghini Huracan  excellent  10 cylinders  gas   33875.0   \n",
       "142323           Lamborghini Huracan        NaN  10 cylinders  gas       1.0   \n",
       "176115           Lamborghini Huracan        NaN  10 cylinders  gas   13004.0   \n",
       "195409           Lamborghini Huracan        NaN  10 cylinders  gas       1.0   \n",
       "304898           Lamborghini Huracan        NaN  10 cylinders  gas   13004.0   \n",
       "364690           Lamborghini Huracan        NaN  10 cylinders  gas       1.0   \n",
       "371065           Lamborghini Huracan        NaN  10 cylinders  gas   13004.0   \n",
       "376017           Lamborghini Huracan        NaN  10 cylinders  gas   13004.0   \n",
       "415796              Lamborghini Urus        NaN   8 cylinders  gas   32922.0   \n",
       "\n",
       "       title_status transmission drive         size         type paint_color  \\\n",
       "9080          clean    automatic   4wd      compact          SUV       white   \n",
       "11339         clean       manual   4wd          NaN        coupe         NaN   \n",
       "42490         clean       manual   4wd      compact        coupe       white   \n",
       "60995         clean    automatic   4wd  sub-compact  convertible       white   \n",
       "92186         clean        other   NaN     mid-size        coupe       green   \n",
       "92796         clean        other   NaN     mid-size        coupe       green   \n",
       "93705         clean    automatic   rwd    full-size  convertible       white   \n",
       "99737         clean        other   NaN     mid-size        coupe       green   \n",
       "101289        clean        other   NaN     mid-size        coupe       green   \n",
       "102617        clean        other   NaN     mid-size        coupe       green   \n",
       "104872        clean    automatic   4wd          NaN        coupe       black   \n",
       "104937        clean        other   NaN     mid-size        coupe       green   \n",
       "106389        clean        other   NaN     mid-size        coupe       green   \n",
       "111963        clean    automatic   rwd          NaN        coupe       green   \n",
       "113598        clean    automatic   4wd  sub-compact        coupe      custom   \n",
       "115372        clean        other   NaN     mid-size        coupe       green   \n",
       "119264        clean        other   NaN     mid-size        coupe       green   \n",
       "142323        clean    automatic   4wd  sub-compact        coupe      custom   \n",
       "176115        clean    automatic   rwd          NaN        coupe        blue   \n",
       "195409        clean    automatic   4wd  sub-compact        coupe      custom   \n",
       "304898        clean    automatic   rwd          NaN        coupe        blue   \n",
       "364690        clean    automatic   4wd  sub-compact        coupe      custom   \n",
       "371065        clean    automatic   rwd          NaN        coupe        blue   \n",
       "376017        clean    automatic   rwd          NaN        coupe        blue   \n",
       "415796        clean    automatic   4wd      compact          SUV       white   \n",
       "\n",
       "       state        lat        long              posting_date  age_of_vehicle  \n",
       "9080      az  25.827103  -80.241520  2021-04-13T14:09:46-0700             3.0  \n",
       "11339     az  33.454195 -111.926096  2021-05-03T10:16:43-0700            18.0  \n",
       "42490     ca  33.811000 -117.849300  2021-04-30T15:04:19-0700            18.0  \n",
       "60995     ca  37.410820 -122.123860  2021-05-04T09:22:22-0700             9.0  \n",
       "92186     fl  28.466088  -81.396429  2021-05-01T11:48:44-0400             7.0  \n",
       "92796     fl  28.466088  -81.396429  2021-04-21T15:30:32-0400             7.0  \n",
       "93705     fl  25.779100  -80.197800  2021-04-21T10:16:10-0400             6.0  \n",
       "99737     fl  28.466088  -81.396429  2021-04-21T15:32:33-0400             7.0  \n",
       "101289    fl  28.466088  -81.396429  2021-04-21T15:34:32-0400             7.0  \n",
       "102617    fl  28.466088  -81.396429  2021-04-26T15:54:38-0400             7.0  \n",
       "104872    fl  28.539900  -81.372700  2021-05-01T14:05:37-0400            16.0  \n",
       "104937    fl  28.466088  -81.396429  2021-05-01T11:48:06-0400             7.0  \n",
       "106389    fl  28.466088  -81.396429  2021-04-26T15:54:41-0400             7.0  \n",
       "111963    fl  26.716200  -80.096500  2021-05-03T11:00:55-0400             1.0  \n",
       "113598    fl  25.827103  -80.241520  2021-04-29T19:19:41-0400             7.0  \n",
       "115372    fl  28.466088  -81.396429  2021-04-26T15:56:30-0400             7.0  \n",
       "119264    fl  28.466088  -81.396429  2021-04-26T15:57:30-0400             7.0  \n",
       "142323    il  25.827103  -80.241520  2021-04-29T19:06:30-0500             7.0  \n",
       "176115    la  32.964447  -96.918586  2021-04-30T16:58:23-0500             5.0  \n",
       "195409    mi  25.827103  -80.241520  2021-04-29T19:52:11-0400             7.0  \n",
       "304898    ok  32.964447  -96.918586  2021-04-30T16:58:19-0500             5.0  \n",
       "364690    tx  25.827103  -80.241520  2021-04-29T18:33:52-0500             7.0  \n",
       "371065    tx  32.964447  -96.918586  2021-04-30T17:22:09-0500             5.0  \n",
       "376017    tx  32.964447  -96.918586  2021-04-30T16:59:07-0500             5.0  \n",
       "415796    wi  25.827103  -80.241520  2021-04-13T20:43:00-0500             3.0  "
      ]
     },
     "execution_count": 84,
     "metadata": {},
     "output_type": "execute_result"
    }
   ],
   "source": [
    "clean_df[clean_df['model'].str.contains(r'Lamborghini', na=False)]"
   ]
  },
  {
   "cell_type": "markdown",
   "id": "ff01bdfb",
   "metadata": {},
   "source": [
    "All the Lamborghinis are missing a `manufacturer` label"
   ]
  },
  {
   "cell_type": "code",
   "execution_count": 85,
   "id": "88b22a8f",
   "metadata": {},
   "outputs": [],
   "source": [
    "clean_df.loc[clean_df['model'].str.contains(r'Lamborghini|lamborghini', na=False), ['manufacturer']] = 'Lamborghini'"
   ]
  },
  {
   "cell_type": "code",
   "execution_count": 86,
   "id": "b7a19822",
   "metadata": {},
   "outputs": [
    {
     "data": {
      "text/html": [
       "<div>\n",
       "<style scoped>\n",
       "    .dataframe tbody tr th:only-of-type {\n",
       "        vertical-align: middle;\n",
       "    }\n",
       "\n",
       "    .dataframe tbody tr th {\n",
       "        vertical-align: top;\n",
       "    }\n",
       "\n",
       "    .dataframe thead th {\n",
       "        text-align: right;\n",
       "    }\n",
       "</style>\n",
       "<table border=\"1\" class=\"dataframe\">\n",
       "  <thead>\n",
       "    <tr style=\"text-align: right;\">\n",
       "      <th></th>\n",
       "      <th>region</th>\n",
       "      <th>price</th>\n",
       "      <th>year</th>\n",
       "      <th>manufacturer</th>\n",
       "      <th>model</th>\n",
       "      <th>condition</th>\n",
       "      <th>cylinders</th>\n",
       "      <th>fuel</th>\n",
       "      <th>odometer</th>\n",
       "      <th>title_status</th>\n",
       "      <th>transmission</th>\n",
       "      <th>drive</th>\n",
       "      <th>size</th>\n",
       "      <th>type</th>\n",
       "      <th>paint_color</th>\n",
       "      <th>state</th>\n",
       "      <th>lat</th>\n",
       "      <th>long</th>\n",
       "      <th>posting_date</th>\n",
       "      <th>age_of_vehicle</th>\n",
       "    </tr>\n",
       "  </thead>\n",
       "  <tbody>\n",
       "    <tr>\n",
       "      <th>9080</th>\n",
       "      <td>flagstaff / sedona</td>\n",
       "      <td>229500</td>\n",
       "      <td>2019.0</td>\n",
       "      <td>Lamborghini</td>\n",
       "      <td>Lamborghini Urus</td>\n",
       "      <td>NaN</td>\n",
       "      <td>8 cylinders</td>\n",
       "      <td>gas</td>\n",
       "      <td>32922.0</td>\n",
       "      <td>clean</td>\n",
       "      <td>automatic</td>\n",
       "      <td>4wd</td>\n",
       "      <td>compact</td>\n",
       "      <td>SUV</td>\n",
       "      <td>white</td>\n",
       "      <td>az</td>\n",
       "      <td>25.827103</td>\n",
       "      <td>-80.241520</td>\n",
       "      <td>2021-04-13T14:09:46-0700</td>\n",
       "      <td>3.0</td>\n",
       "    </tr>\n",
       "    <tr>\n",
       "      <th>11339</th>\n",
       "      <td>phoenix</td>\n",
       "      <td>109945</td>\n",
       "      <td>2004.0</td>\n",
       "      <td>Lamborghini</td>\n",
       "      <td>Lamborghini Gallardo 6-Speed</td>\n",
       "      <td>excellent</td>\n",
       "      <td>10 cylinders</td>\n",
       "      <td>gas</td>\n",
       "      <td>57115.0</td>\n",
       "      <td>clean</td>\n",
       "      <td>manual</td>\n",
       "      <td>4wd</td>\n",
       "      <td>NaN</td>\n",
       "      <td>coupe</td>\n",
       "      <td>NaN</td>\n",
       "      <td>az</td>\n",
       "      <td>33.454195</td>\n",
       "      <td>-111.926096</td>\n",
       "      <td>2021-05-03T10:16:43-0700</td>\n",
       "      <td>18.0</td>\n",
       "    </tr>\n",
       "    <tr>\n",
       "      <th>42490</th>\n",
       "      <td>orange county</td>\n",
       "      <td>105000</td>\n",
       "      <td>2004.0</td>\n",
       "      <td>Lamborghini</td>\n",
       "      <td>2004 Lamborghini Gallardo</td>\n",
       "      <td>excellent</td>\n",
       "      <td>10 cylinders</td>\n",
       "      <td>gas</td>\n",
       "      <td>18375.0</td>\n",
       "      <td>clean</td>\n",
       "      <td>manual</td>\n",
       "      <td>4wd</td>\n",
       "      <td>compact</td>\n",
       "      <td>coupe</td>\n",
       "      <td>white</td>\n",
       "      <td>ca</td>\n",
       "      <td>33.811000</td>\n",
       "      <td>-117.849300</td>\n",
       "      <td>2021-04-30T15:04:19-0700</td>\n",
       "      <td>18.0</td>\n",
       "    </tr>\n",
       "    <tr>\n",
       "      <th>60995</th>\n",
       "      <td>SF bay area</td>\n",
       "      <td>159991</td>\n",
       "      <td>2013.0</td>\n",
       "      <td>Lamborghini</td>\n",
       "      <td>Lamborghini Gallardo</td>\n",
       "      <td>excellent</td>\n",
       "      <td>10 cylinders</td>\n",
       "      <td>gas</td>\n",
       "      <td>12329.0</td>\n",
       "      <td>clean</td>\n",
       "      <td>automatic</td>\n",
       "      <td>4wd</td>\n",
       "      <td>sub-compact</td>\n",
       "      <td>convertible</td>\n",
       "      <td>white</td>\n",
       "      <td>ca</td>\n",
       "      <td>37.410820</td>\n",
       "      <td>-122.123860</td>\n",
       "      <td>2021-05-04T09:22:22-0700</td>\n",
       "      <td>9.0</td>\n",
       "    </tr>\n",
       "    <tr>\n",
       "      <th>92186</th>\n",
       "      <td>daytona beach</td>\n",
       "      <td>197999</td>\n",
       "      <td>2015.0</td>\n",
       "      <td>Lamborghini</td>\n",
       "      <td>Lamborghini Huracan</td>\n",
       "      <td>excellent</td>\n",
       "      <td>10 cylinders</td>\n",
       "      <td>gas</td>\n",
       "      <td>33875.0</td>\n",
       "      <td>clean</td>\n",
       "      <td>other</td>\n",
       "      <td>NaN</td>\n",
       "      <td>mid-size</td>\n",
       "      <td>coupe</td>\n",
       "      <td>green</td>\n",
       "      <td>fl</td>\n",
       "      <td>28.466088</td>\n",
       "      <td>-81.396429</td>\n",
       "      <td>2021-05-01T11:48:44-0400</td>\n",
       "      <td>7.0</td>\n",
       "    </tr>\n",
       "  </tbody>\n",
       "</table>\n",
       "</div>"
      ],
      "text/plain": [
       "                   region   price    year manufacturer  \\\n",
       "9080   flagstaff / sedona  229500  2019.0  Lamborghini   \n",
       "11339             phoenix  109945  2004.0  Lamborghini   \n",
       "42490       orange county  105000  2004.0  Lamborghini   \n",
       "60995         SF bay area  159991  2013.0  Lamborghini   \n",
       "92186       daytona beach  197999  2015.0  Lamborghini   \n",
       "\n",
       "                              model  condition     cylinders fuel  odometer  \\\n",
       "9080               Lamborghini Urus        NaN   8 cylinders  gas   32922.0   \n",
       "11339  Lamborghini Gallardo 6-Speed  excellent  10 cylinders  gas   57115.0   \n",
       "42490     2004 Lamborghini Gallardo  excellent  10 cylinders  gas   18375.0   \n",
       "60995          Lamborghini Gallardo  excellent  10 cylinders  gas   12329.0   \n",
       "92186           Lamborghini Huracan  excellent  10 cylinders  gas   33875.0   \n",
       "\n",
       "      title_status transmission drive         size         type paint_color  \\\n",
       "9080         clean    automatic   4wd      compact          SUV       white   \n",
       "11339        clean       manual   4wd          NaN        coupe         NaN   \n",
       "42490        clean       manual   4wd      compact        coupe       white   \n",
       "60995        clean    automatic   4wd  sub-compact  convertible       white   \n",
       "92186        clean        other   NaN     mid-size        coupe       green   \n",
       "\n",
       "      state        lat        long              posting_date  age_of_vehicle  \n",
       "9080     az  25.827103  -80.241520  2021-04-13T14:09:46-0700             3.0  \n",
       "11339    az  33.454195 -111.926096  2021-05-03T10:16:43-0700            18.0  \n",
       "42490    ca  33.811000 -117.849300  2021-04-30T15:04:19-0700            18.0  \n",
       "60995    ca  37.410820 -122.123860  2021-05-04T09:22:22-0700             9.0  \n",
       "92186    fl  28.466088  -81.396429  2021-05-01T11:48:44-0400             7.0  "
      ]
     },
     "execution_count": 86,
     "metadata": {},
     "output_type": "execute_result"
    }
   ],
   "source": [
    "clean_df[clean_df['model'].str.contains(r'Lamborghini', na=False)].head()"
   ]
  },
  {
   "cell_type": "code",
   "execution_count": 87,
   "id": "171071c5",
   "metadata": {},
   "outputs": [
    {
     "name": "stdout",
     "output_type": "stream",
     "text": [
      "<class 'pandas.core.frame.DataFrame'>\n",
      "Int64Index: 383346 entries, 27 to 426879\n",
      "Data columns (total 20 columns):\n",
      " #   Column          Non-Null Count   Dtype  \n",
      "---  ------          --------------   -----  \n",
      " 0   region          383346 non-null  object \n",
      " 1   price           383346 non-null  int64  \n",
      " 2   year            382236 non-null  float64\n",
      " 3   manufacturer    367926 non-null  object \n",
      " 4   model           378929 non-null  object \n",
      " 5   condition       235345 non-null  object \n",
      " 6   cylinders       383346 non-null  object \n",
      " 7   fuel            383346 non-null  object \n",
      " 8   odometer        383346 non-null  float64\n",
      " 9   title_status    383346 non-null  object \n",
      " 10  transmission    383346 non-null  object \n",
      " 11  drive           266216 non-null  object \n",
      " 12  size            106813 non-null  object \n",
      " 13  type            383346 non-null  object \n",
      " 14  paint_color     269943 non-null  object \n",
      " 15  state           383346 non-null  object \n",
      " 16  lat             379938 non-null  float64\n",
      " 17  long            379938 non-null  float64\n",
      " 18  posting_date    383346 non-null  object \n",
      " 19  age_of_vehicle  382236 non-null  float64\n",
      "dtypes: float64(5), int64(1), object(14)\n",
      "memory usage: 61.4+ MB\n"
     ]
    }
   ],
   "source": [
    "clean_df.info()"
   ]
  },
  {
   "cell_type": "code",
   "execution_count": 88,
   "id": "16cded23",
   "metadata": {},
   "outputs": [
    {
     "data": {
      "text/plain": [
       "array(['Scion iM Hatchback 4D', 'blue bird bus', '1966 C-30 1 ton', ...,\n",
       "       'ATI', '96 Suburban', 'Paige Glenbrook Touring'], dtype=object)"
      ]
     },
     "execution_count": 88,
     "metadata": {},
     "output_type": "execute_result"
    }
   ],
   "source": [
    "# manufacturer\n",
    "clean_df[clean_df['manufacturer'].isna()]['model'].unique()"
   ]
  },
  {
   "cell_type": "markdown",
   "id": "5f5b1aa0",
   "metadata": {},
   "source": [
    "## [Step 6: Data Publishing](https://hevodata.com/learn/data-wrangling/#s6)\n",
    "By this time, all the steps are completed and the data is ready for analytics. All that’s left is to publish the newly Wrangled Data in a place where it can be easily accessed and used by you and other stakeholders. \n",
    "\n",
    "You can deposit the data into a new architecture or database. As long as you completed the other processes correctly, the final output of your efforts will be high-quality data that you use to gain insights, create business reports, and more. \n",
    "\n",
    "You might even further process the data to create larger and more complex data structures such as Data Warehouses. At this point, the possibilities are endless."
   ]
  },
  {
   "cell_type": "code",
   "execution_count": 89,
   "id": "138a220d",
   "metadata": {},
   "outputs": [],
   "source": [
    "clean_df.sort_values(by='price', ascending=True, inplace=True)"
   ]
  },
  {
   "cell_type": "code",
   "execution_count": 90,
   "id": "117fcabb",
   "metadata": {},
   "outputs": [
    {
     "data": {
      "text/html": [
       "<div>\n",
       "<style scoped>\n",
       "    .dataframe tbody tr th:only-of-type {\n",
       "        vertical-align: middle;\n",
       "    }\n",
       "\n",
       "    .dataframe tbody tr th {\n",
       "        vertical-align: top;\n",
       "    }\n",
       "\n",
       "    .dataframe thead th {\n",
       "        text-align: right;\n",
       "    }\n",
       "</style>\n",
       "<table border=\"1\" class=\"dataframe\">\n",
       "  <thead>\n",
       "    <tr style=\"text-align: right;\">\n",
       "      <th></th>\n",
       "      <th>index</th>\n",
       "      <th>region</th>\n",
       "      <th>price</th>\n",
       "      <th>year</th>\n",
       "      <th>manufacturer</th>\n",
       "      <th>model</th>\n",
       "      <th>condition</th>\n",
       "      <th>cylinders</th>\n",
       "      <th>fuel</th>\n",
       "      <th>odometer</th>\n",
       "      <th>...</th>\n",
       "      <th>transmission</th>\n",
       "      <th>drive</th>\n",
       "      <th>size</th>\n",
       "      <th>type</th>\n",
       "      <th>paint_color</th>\n",
       "      <th>state</th>\n",
       "      <th>lat</th>\n",
       "      <th>long</th>\n",
       "      <th>posting_date</th>\n",
       "      <th>age_of_vehicle</th>\n",
       "    </tr>\n",
       "  </thead>\n",
       "  <tbody>\n",
       "    <tr>\n",
       "      <th>0</th>\n",
       "      <td>137127</td>\n",
       "      <td>spokane / coeur d'alene</td>\n",
       "      <td>3</td>\n",
       "      <td>1985.0</td>\n",
       "      <td>chevrolet</td>\n",
       "      <td>k5</td>\n",
       "      <td>NaN</td>\n",
       "      <td>other</td>\n",
       "      <td>gas</td>\n",
       "      <td>76879.0</td>\n",
       "      <td>...</td>\n",
       "      <td>automatic</td>\n",
       "      <td>NaN</td>\n",
       "      <td>NaN</td>\n",
       "      <td>other</td>\n",
       "      <td>NaN</td>\n",
       "      <td>id</td>\n",
       "      <td>47.703854</td>\n",
       "      <td>-116.806489</td>\n",
       "      <td>2021-04-30T15:08:45-0700</td>\n",
       "      <td>37.0</td>\n",
       "    </tr>\n",
       "    <tr>\n",
       "      <th>1</th>\n",
       "      <td>145200</td>\n",
       "      <td>rockford</td>\n",
       "      <td>3</td>\n",
       "      <td>2015.0</td>\n",
       "      <td>chevrolet</td>\n",
       "      <td>traverse</td>\n",
       "      <td>NaN</td>\n",
       "      <td>6 cylinders</td>\n",
       "      <td>other</td>\n",
       "      <td>70721.0</td>\n",
       "      <td>...</td>\n",
       "      <td>automatic</td>\n",
       "      <td>fwd</td>\n",
       "      <td>NaN</td>\n",
       "      <td>SUV</td>\n",
       "      <td>blue</td>\n",
       "      <td>il</td>\n",
       "      <td>42.393700</td>\n",
       "      <td>-88.164800</td>\n",
       "      <td>2021-04-12T13:57:06-0500</td>\n",
       "      <td>7.0</td>\n",
       "    </tr>\n",
       "    <tr>\n",
       "      <th>2</th>\n",
       "      <td>297060</td>\n",
       "      <td>columbus</td>\n",
       "      <td>3</td>\n",
       "      <td>2009.0</td>\n",
       "      <td>pontiac</td>\n",
       "      <td>vibe</td>\n",
       "      <td>good</td>\n",
       "      <td>4 cylinders</td>\n",
       "      <td>gas</td>\n",
       "      <td>129342.0</td>\n",
       "      <td>...</td>\n",
       "      <td>automatic</td>\n",
       "      <td>fwd</td>\n",
       "      <td>compact</td>\n",
       "      <td>hatchback</td>\n",
       "      <td>silver</td>\n",
       "      <td>oh</td>\n",
       "      <td>40.042500</td>\n",
       "      <td>-82.977300</td>\n",
       "      <td>2021-04-17T12:26:09-0400</td>\n",
       "      <td>13.0</td>\n",
       "    </tr>\n",
       "    <tr>\n",
       "      <th>3</th>\n",
       "      <td>102947</td>\n",
       "      <td>ocala</td>\n",
       "      <td>3</td>\n",
       "      <td>2004.0</td>\n",
       "      <td>ford</td>\n",
       "      <td>expedition</td>\n",
       "      <td>good</td>\n",
       "      <td>6 cylinders</td>\n",
       "      <td>gas</td>\n",
       "      <td>235.0</td>\n",
       "      <td>...</td>\n",
       "      <td>automatic</td>\n",
       "      <td>NaN</td>\n",
       "      <td>full-size</td>\n",
       "      <td>other</td>\n",
       "      <td>grey</td>\n",
       "      <td>fl</td>\n",
       "      <td>29.105600</td>\n",
       "      <td>-82.098000</td>\n",
       "      <td>2021-04-21T21:24:17-0400</td>\n",
       "      <td>18.0</td>\n",
       "    </tr>\n",
       "    <tr>\n",
       "      <th>4</th>\n",
       "      <td>188090</td>\n",
       "      <td>boston</td>\n",
       "      <td>3</td>\n",
       "      <td>2008.0</td>\n",
       "      <td>chevrolet</td>\n",
       "      <td>silverado 1500</td>\n",
       "      <td>fair</td>\n",
       "      <td>8 cylinders</td>\n",
       "      <td>gas</td>\n",
       "      <td>200.0</td>\n",
       "      <td>...</td>\n",
       "      <td>automatic</td>\n",
       "      <td>4wd</td>\n",
       "      <td>NaN</td>\n",
       "      <td>other</td>\n",
       "      <td>NaN</td>\n",
       "      <td>ma</td>\n",
       "      <td>42.558100</td>\n",
       "      <td>-71.172300</td>\n",
       "      <td>2021-04-28T08:27:13-0400</td>\n",
       "      <td>14.0</td>\n",
       "    </tr>\n",
       "  </tbody>\n",
       "</table>\n",
       "<p>5 rows × 21 columns</p>\n",
       "</div>"
      ],
      "text/plain": [
       "    index                   region  price    year manufacturer  \\\n",
       "0  137127  spokane / coeur d'alene      3  1985.0    chevrolet   \n",
       "1  145200                 rockford      3  2015.0    chevrolet   \n",
       "2  297060                 columbus      3  2009.0      pontiac   \n",
       "3  102947                    ocala      3  2004.0         ford   \n",
       "4  188090                   boston      3  2008.0    chevrolet   \n",
       "\n",
       "            model condition    cylinders   fuel  odometer  ... transmission  \\\n",
       "0              k5       NaN        other    gas   76879.0  ...    automatic   \n",
       "1        traverse       NaN  6 cylinders  other   70721.0  ...    automatic   \n",
       "2            vibe      good  4 cylinders    gas  129342.0  ...    automatic   \n",
       "3      expedition      good  6 cylinders    gas     235.0  ...    automatic   \n",
       "4  silverado 1500      fair  8 cylinders    gas     200.0  ...    automatic   \n",
       "\n",
       "  drive       size       type paint_color state        lat        long  \\\n",
       "0   NaN        NaN      other         NaN    id  47.703854 -116.806489   \n",
       "1   fwd        NaN        SUV        blue    il  42.393700  -88.164800   \n",
       "2   fwd    compact  hatchback      silver    oh  40.042500  -82.977300   \n",
       "3   NaN  full-size      other        grey    fl  29.105600  -82.098000   \n",
       "4   4wd        NaN      other         NaN    ma  42.558100  -71.172300   \n",
       "\n",
       "               posting_date age_of_vehicle  \n",
       "0  2021-04-30T15:08:45-0700           37.0  \n",
       "1  2021-04-12T13:57:06-0500            7.0  \n",
       "2  2021-04-17T12:26:09-0400           13.0  \n",
       "3  2021-04-21T21:24:17-0400           18.0  \n",
       "4  2021-04-28T08:27:13-0400           14.0  \n",
       "\n",
       "[5 rows x 21 columns]"
      ]
     },
     "execution_count": 90,
     "metadata": {},
     "output_type": "execute_result"
    }
   ],
   "source": [
    "clean_df.reset_index(inplace=True)\n",
    "clean_df.head()"
   ]
  },
  {
   "cell_type": "code",
   "execution_count": 91,
   "id": "5df0fb52",
   "metadata": {},
   "outputs": [],
   "source": [
    "# save the data to a new csv file\n",
    "datapath = '../data/processed'\n",
    "os.makedirs(datapath, exist_ok=True)  \n",
    "clean_df.to_csv(f'{datapath}/vehicles_cleaned.csv')  "
   ]
  }
 ],
 "metadata": {
  "kernelspec": {
   "display_name": "Python 3 (ipykernel)",
   "language": "python",
   "name": "python3"
  },
  "language_info": {
   "codemirror_mode": {
    "name": "ipython",
    "version": 3
   },
   "file_extension": ".py",
   "mimetype": "text/x-python",
   "name": "python",
   "nbconvert_exporter": "python",
   "pygments_lexer": "ipython3",
   "version": "3.9.13"
  }
 },
 "nbformat": 4,
 "nbformat_minor": 5
}
